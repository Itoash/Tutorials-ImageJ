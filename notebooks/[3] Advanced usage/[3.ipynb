{
 "cells": [
  {
   "cell_type": "markdown",
   "metadata": {},
   "source": [
    "# Under the hood: SciJava"
   ]
  },
  {
   "cell_type": "markdown",
   "metadata": {},
   "source": [
    "Let's dig in to how the SciJava Common library works under the hood!"
   ]
  },
  {
   "cell_type": "markdown",
   "metadata": {},
   "source": [
    "## Plugins"
   ]
  },
  {
   "cell_type": "markdown",
   "metadata": {},
   "source": [
    "First and foremost, [SciJava Common](http://imagej.net/SciJava_Common) is a plugin framework — a base for developing highly modular and extensible Java applications.  All plugins available on Java's classpath are automatically discovered and made available. This is accomplished by scanning classpath resources for the file path <code>META-INF/json/org.scijava.plugin.Plugin</code>. Such files are generated at compile time by a Java annotation processor that writes them in response to <code>@Plugin</code> annotations on Java classes.\n",
    "\n",
    "In [ImageJ2](http://imagej.net/ImageJ2) , we invented a plugin mechanism to replace ImageJ 1.x plugins, now called \"commands\" in ImageJ2 to distinguish from other plugins. We factor out plugin discovery from ImageJ2 into a base library: [SciJava Common](http://imagej.net/SciJava_Common#Services)."
   ]
  },
  {
   "cell_type": "code",
   "execution_count": null,
   "metadata": {},
   "outputs": [],
   "source": [
    "// Behind a firewall? Configure your proxy settings here.\n",
    "//System.setProperty(\"http.proxyHost\",\"myproxy.domain\")\n",
    "//System.setProperty(\"http.proxyPort\",\"8080\")\n",
    "\n",
    "//////////////////////////////////////////////////////////////\n",
    "// Load ImageJ. This may take some minutes the first time   //\n",
    "// while ImageJ is installed into ~/.groovy/grapes locally. //\n",
    "//////////////////////////////////////////////////////////////\n",
    "@GrabResolver(name='imagej', root='http://maven.imagej.net/content/groups/public/')\n",
    "@Grab('net.imagej:imagej:2.0.0-rc-58')\n",
    "import net.imagej.ImageJ\n",
    "ij = new ImageJ()\n",
    "println(\"ImageJ is ready to go.\")"
   ]
  },
  {
   "cell_type": "markdown",
   "metadata": {},
   "source": [
    "## The Context"
   ]
  },
  {
   "cell_type": "markdown",
   "metadata": {},
   "source": [
    "The job of the `Context` is to keep track of the currently available plugins. The SciJava context is a container of named `Service` plugins that hold local state information.\n",
    "\n",
    "References to all the `@Plugin`-annotated classes that are discovered are contained in a single, master `Context`. Each application is responsible for creating its own `Context` to manage plugins and contextual state.\n",
    "\n",
    "In ImageJ, a `Context` is automatically created when the application starts up, so plugin developers do not need to create their own. In fact, creating your own `Context` typically causes problems, as it will be a different container than what the rest of ImageJ is using. Instead, plugin instances within a common `Context` are provided automatically by the framework—you just have to ask for it.\n",
    "\n",
    "Typically, ImageJ plugin developers will be writing `Service` and/or `Command` plugins. If you need to use another plugin—for example, the `LogService`—you should not manually create it as this effectively disconnects you from your `Context`. Instead, you should ask your `Context` for an instance by adding a field of the desired type and annotating it with the `@Parameter` annotation. For example:"
   ]
  },
  {
   "cell_type": "code",
   "execution_count": null,
   "metadata": {},
   "outputs": [],
   "source": [
    "import org.scijava.plugin.Plugin\n",
    "import org.scijava.plugin.Parameter\n",
    "import org.scijava.log.LogService\n",
    "import org.scijava.command.Command\n",
    "\n",
    "@Plugin(type = Command.class)\n",
    "public class MyPlugin implements Command {\n",
    " \n",
    "  // This @Parameter notation is 'asking' the Context\n",
    "  // for an instance of LogService.\n",
    "  @Parameter\n",
    "  private LogService logService\n",
    "  \n",
    "  @Parameter\n",
    "  private String message\n",
    " \n",
    "  @Override\n",
    "  public void run() {\n",
    "    // Just use the LogService!\n",
    "    // There is no need to construct it, since the Context\n",
    "    // has already provided an appropriate instance.\n",
    "    logService.info(message)\n",
    "  }\n",
    "  \n",
    "  public void log(String message) {\n",
    "    // Just use the LogService!\n",
    "    // There is no need to construct it, since the Context\n",
    "    // has already provided an appropriate instance.\n",
    "    logService.info(message);\n",
    "  }\n",
    "}\n",
    "\n",
    "// executing our sample command\n",
    "ij.command().run(MyPlugin.class, true, \"message\", \"Success!\")"
   ]
  },
  {
   "cell_type": "markdown",
   "metadata": {},
   "source": [
    "This will allow the <code>Context</code> to provide you with the appropriate instance of your requested service.\n",
    "\n",
    "In some cases, manual plugin construction is unavoidable. Understand that if the <code>MyPlugin</code> class above is manually constructed—i.e. via <code>new MyPlugin()</code>—the <code>LogService</code> parameter will be <code>null</code>. Automatic population only occurs if the plugin instance itself is retrieved via the framework. When you must manually construct a plugin instance, you can still re-connect it to an existing <code>Context</code> via its injection mechanism:"
   ]
  },
  {
   "cell_type": "code",
   "execution_count": null,
   "metadata": {},
   "outputs": [],
   "source": [
    "import org.scijava.plugin.Plugin\n",
    "import org.scijava.Context;\n",
    "import org.scijava.plugin.Parameter\n",
    "import org.scijava.command.Command\n",
    "\n",
    "@Plugin(type = Command.class)\n",
    "public class MyService implements Command {\n",
    " \n",
    "  // This service will manually create plugin instances.\n",
    "  // So, we need a reference to our containing Context,\n",
    "  // then we can use it to inject our plugins.\n",
    "  @Parameter\n",
    "  private Context context\n",
    "  \n",
    "  @Override\n",
    "  public void run() {\n",
    "    // Manually create a plugin instance.\n",
    "    // It is not connected to a Context yet\n",
    "    MyPlugin plugin = new MyPlugin();\n",
    " \n",
    "    // Inject the plugin instance with our Context.\n",
    "    context.inject(plugin);\n",
    " \n",
    "    // Now that our plugin is injected, we can use\n",
    "    // it with the knowledge that its parameters\n",
    "    // have been populated.\n",
    "    plugin.log(\"Success!\");\n",
    "  }\n",
    "}\n",
    "\n",
    "// executing our sample command\n",
    "ij.command().run(MyService.class, true)"
   ]
  },
  {
   "cell_type": "markdown",
   "metadata": {},
   "source": [
    "## Services"
   ]
  },
  {
   "cell_type": "markdown",
   "metadata": {},
   "source": [
    "[Services](http://imagej.net/SciJava_Common#Services) are -- surprise! -- SciJava Plugins. Just like plugins, there are Service interfaces and implementing classes. This allows a proper separation between the Service's public contract and the details of its implementation.\n",
    "\n",
    "Services are defined as interfaces, with concrete implementations as plugins. This design provides [seams](http://c2.com/cgi/wiki?SoftwareSeam) in the right places so that behavior at every level can be customized and overridden.\n",
    "\n",
    "Services provide two important functions to the SciJava framework: utility methods and persistent state. If you want to add reusable Java methods that can be used throughout the SciJava framework, then you should create a <code>Service</code> to provide this functionality. If you need to track Context-wide variables or configuration, a <code>Service</code> should be used to encapsulate that state.\n",
    "\n",
    "Conceptually, a <code>Service</code> satisfies the role of [static utility classes](https://en.wikipedia.org/wiki/Utility_class) on a per-Context basis. In this way, only one [instance](http://math.hws.edu/javanotes/c5/s1.html ) of each <code>Service</code> class can be associated with a given <code>Context</code> instance; an association that occurs automatically during <code>Context</code> creation. Furthermore, when a <code>Context</code> is asked for an implementation of a given <code>Service</code>, only the highest priority instance will be returned.\n",
    "\n",
    "Services often build on or reuse functionality defined in each other. For example, the <code>PluginService</code> sees ubiquitous use in retrieving and working with plugin instances. For such reuse, <code>@Parameter</code> annotation can be used to declare inter-service requirements. During <code>Context</code> startup, these relationships will be resolved automatically."
   ]
  },
  {
   "cell_type": "code",
   "execution_count": null,
   "metadata": {},
   "outputs": [],
   "source": [
    "import org.scijava.service.SciJavaService\n",
    "import org.scijava.service.Service\n",
    "import org.scijava.app.StatusService\n",
    "import org.scijava.plugin.Plugin\n",
    "import org.scijava.plugin.Parameter\n",
    "\n",
    "// Example Service Interface:\n",
    "public interface HelloService extends SciJavaService {\n",
    "  public void sayHello()\n",
    "}\n",
    "\n",
    "// Example implementation:\n",
    "@Plugin(type = Service.class)\n",
    "public class DefaultHelloService implements HelloService {\n",
    "  @Parameter\n",
    "  private StatusService status\n",
    "\n",
    "  @Override\n",
    "  public void initialize() {\n",
    "          // initialize as little as possible here\n",
    "  }\n",
    "\n",
    "  @Override\n",
    "  public void sayHello() {\n",
    "          status.showStatus(\"Howdy!\")\n",
    "  }\n",
    "}"
   ]
  },
  {
   "cell_type": "markdown",
   "metadata": {},
   "source": [
    "## Commands"
   ]
  },
  {
   "cell_type": "markdown",
   "metadata": {},
   "source": [
    "Whereas `Service`s provide internal functionality, `Command`s are plugins designed to be executed as one-offs, typically interacting with users to achieve some desired outcome. When opening the ImageJ GUI, Commands are what populate your menu structure: exposing functionality and algorithms in a way that can be consumed by non-developers.\n",
    "\n",
    "When writing `Command`s you will often declare `@Parameter`s on fields that _cannot_ be resolved automatically by the `Context`—for example, numeric values or file paths. Instead of being instantiated at `Context` startup as a `Service` would be, `Command`s are created and executed on demand.\n",
    "\n",
    "When a `Command` is executed, it goes through a series of pre-processing steps to populate its `@Parameter`s using its associated `Context`. If any parameters are left unresolved and a UI is available, the framework will automatically build and display an appropriate dialog to get user input. In this way, input harvesting is decoupled from functional operation—allowing developers to focus on what's really important without repetition of code. This also means that `Command`s can typically run [headlessly](http://imagej.net/Headless) without any extra development effort.\n",
    "\n",
    "A common pattern in `Command` development is to wrap `Service` functionality. For example, opening an image from a path is a fundamental operation in ImageJ. To this end, developers can directly use the `DatasetIOService`. Users then get this same functionality from the menus via the `OpenDataset` command—which itself simply calls into the `DatasetIOService`.\n"
   ]
  },
  {
   "cell_type": "markdown",
   "metadata": {},
   "source": [
    "## Gateways"
   ]
  },
  {
   "cell_type": "markdown",
   "metadata": {},
   "source": [
    "A `Gateway` is a plugin intended to make life easier for developers. It wraps a `Context`, offering type-safe access to core services. Everything you can do with a gateway you can also do without it—but the gateway object makes the API much more succinct and convenient."
   ]
  },
  {
   "cell_type": "code",
   "execution_count": null,
   "metadata": {},
   "outputs": [],
   "source": [
    "// Create a SciJava gateway.\n",
    "import org.scijava.SciJava\n",
    "sj = new SciJava()\n",
    "\n",
    "// Now bask in the convenience!\n",
    "\n",
    "println(\"Plugin count: \" + sj.plugin().getPlugins().size())\n",
    "println(\"Module count: \" + sj.module().getModules().size())\n",
    "\n",
    "import org.scijava.service.Service\n",
    "println(\"Service count: \" + sj.plugin().getPluginsOfType(Service.class).size())\n",
    "\n",
    "println(\"SciJava version: \" + sj.getVersion())\n",
    "println(\"Where is SciJava? \" + sj.getApp().getLocation())"
   ]
  },
  {
   "cell_type": "markdown",
   "metadata": {},
   "source": [
    "## Other plugins and services"
   ]
  },
  {
   "cell_type": "markdown",
   "metadata": {},
   "source": [
    "Because virtually everything is a plugin in ImageJ, there are too many to explicitly enumerate, let alone cover in a tutorial. To get ideas for functionality that can be added, a good starting point is to look for services in the [javadoc](http://javadoc.imagej.net/), or the [ImageJ search portal](http://search.imagej.net/ ). Many service types have supplemental plugins for easy functional extension. In particular, the [imagej-common](http://imagej.net/ImageJ_Common) and [scijava-common](http://imagej.net/SciJava_Common) repositories will contain plugin definitions for many essential operations.\n",
    "\n",
    "A brief list of some of the more useful plugin types to extend:\n",
    "\n",
    "* <code>Ops</code> provide a reusable set of image processing algorithms.\n",
    "* <code>Image formats</code> allow new types of images to be opened in ImageJ.\n",
    "* <code>Converters</code> allow the framework to interchange types, outside of normal Java class hierarchy restrictions.\n",
    "* <code>Input Preprocessors</code> give you control over the population of <code>@Parameters</code>.\n",
    "* <code>Displays</code> control how UI elements are presented to users.\n",
    "\n",
    "If you know the function you want to modify but can't determine its location in the code, please [ask other developers](http://imagej.net/Help). You're part of the community now!\n"
   ]
  }
 ],
 "metadata": {
  "kernelspec": {
   "display_name": "Groovy",
   "language": "groovy",
   "name": "groovy"
  }
 },
 "nbformat": 4,
 "nbformat_minor": 2
}
