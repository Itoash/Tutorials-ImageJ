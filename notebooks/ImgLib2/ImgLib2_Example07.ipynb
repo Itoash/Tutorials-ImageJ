{
 "cells": [
  {
   "cell_type": "markdown",
   "metadata": {},
   "source": [
    "# ImgLib2 \n",
    "\n",
    "Example 07: Interpolation"
   ]
  },
  {
   "cell_type": "markdown",
   "metadata": {},
   "source": [
    "## Introduction"
   ]
  },
  {
   "cell_type": "markdown",
   "metadata": {},
   "source": [
    "Interpolation is a basic operation required in many image processing tasks. In the terminology of ImgLib2 it means to convert a [**RandomAccessible**](http://javadoc.imagej.net/ImgLib2/net/imglib2/RandomAccessible.html) into a [**RealRandomAccessible**](http://javadoc.imagej.net/ImgLib2/net/imglib2/RealRandomAccessible.html) which is able to create a [**RealRandomAccess**](http://javadoc.imagej.net/ImgLib2/net/imglib2/RealRandomAccess.html). It can be positioned at real coordinates instead of only integer coordinates and return a value for each real location. \n",
    "\n",
    "Currently, three interpolation schemes are available for ImgLib2:\n",
    "  * Nearest neighbor interpolation (also available for any kind of data that can return a nearest neighbor like sparse datasets)\n",
    "  * Linear interpolation\n",
    "  * Lanczos interpolation\n",
    "\n",
    "In the example, we magnify a given real interval in the [RealRandomAccessible](http://javadoc.imagej.net/ImgLib2/net/imglib2/RealRandomAccessible.html) which is based on the interpolation on an [Img](http://javadoc.imagej.net/ImgLib2/net/imglib2/img/Img.html) and compare the results of all three interpolation methods."
   ]
  },
  {
   "cell_type": "markdown",
   "metadata": {},
   "source": [
    "## Bootstrap ImageJ"
   ]
  },
  {
   "cell_type": "code",
   "execution_count": null,
   "metadata": {},
   "outputs": [],
   "source": [
    "// Behind a firewall? Configure your proxy settings here.\n",
    "//systemProperties = System.getProperties()\n",
    "//systemProperties.setProperty(\"http.proxyHost\",\"myproxy.domain\")\n",
    "//systemProperties.setProperty(\"http.proxyPort\",\"8080\")\n",
    "\n",
    "//////////////////////////////////////////////////////////////\n",
    "// Load ImageJ. This may take some minutes the first time   //\n",
    "// while ImageJ is installed into ~/.groovy/grapes locally. //\n",
    "//////////////////////////////////////////////////////////////\n",
    "@GrabResolver(name='imagej', root='http://maven.imagej.net/content/groups/public/')\n",
    "@Grab('net.imagej:imagej:2.0.0-rc-58')\n",
    "import net.imagej.ImageJ\n",
    "ij = new ImageJ()\n",
    "println(\"ImageJ is ready to go.\")"
   ]
  },
  {
   "cell_type": "markdown",
   "metadata": {},
   "source": [
    "Below is the utility method for a given interval magnification."
   ]
  },
  {
   "cell_type": "code",
   "execution_count": null,
   "metadata": {},
   "outputs": [],
   "source": [
    "import net.imglib2.type.Type\n",
    "import net.imglib2.RealRandomAccessible\n",
    "import net.imglib2.RealInterval\n",
    "import net.imglib2.img.ImgFactory\n",
    "import net.imglib2.img.Img\n",
    "\n",
    "mag = new Object() {\n",
    "  /**\n",
    "   * Compute a magnified version of a given real interval\n",
    "   *\n",
    "   * @param <T> value type\n",
    "   * @param source - the input data\n",
    "   * @param interval - the real interval on the source that should be\n",
    "   * magnified\n",
    "   * @param factory - the image factory for the output image\n",
    "   * @param magnification - the ratio of magnification\n",
    "   * @return - an Img that contains the magnified image content\n",
    "   */\n",
    "  public <T extends Type<T>> Img<T> magnify(\n",
    "    RealRandomAccessible<T> source,\n",
    "    RealInterval interval,\n",
    "    ImgFactory<T> factory,\n",
    "    double magnification) {\n",
    "    \n",
    "    numDimensions = interval.numDimensions()\n",
    "    \n",
    "    // compute the number of pixels of the output and the size of the real interval\n",
    "    pixelSize = new long[numDimensions]\n",
    "    intervalSize = new double[numDimensions]\n",
    "    \n",
    "    for (int d = 0; d < numDimensions; ++d) {\n",
    "      intervalSize[d] = interval.realMax(d) - interval.realMin(d)\n",
    "      pixelSize[d] = Math.round(intervalSize[d] * magnification) + 1\n",
    "    }\n",
    "    \n",
    "    // create the output image\n",
    "    output = factory.create(pixelSize, source.realRandomAccess().get())\n",
    "    \n",
    "    // cursor to iterate over all pixels\n",
    "    cursor = output.localizingCursor()\n",
    "    \n",
    "    // create a RealRandomAccess on the source (interpolator)\n",
    "    realRandomAccess = source.realRandomAccess()\n",
    "    \n",
    "    // the temporary array to compute the position\n",
    "    tmp = new double[numDimensions]\n",
    "    \n",
    "    // for all pixels of the output image\n",
    "    while (cursor.hasNext()) {\n",
    "      cursor.fwd()\n",
    "      \n",
    "      // compute the appropriate location of the interpolator\n",
    "      for (int d = 0; d < numDimensions; ++d) {\n",
    "        tmp[d] = cursor.getDoublePosition(d) / output.realMax(d) * intervalSize[d] + interval.realMin(d)\n",
    "      }\n",
    "      \n",
    "      // set the position\n",
    "      realRandomAccess.setPosition(tmp)\n",
    "      \n",
    "      // set the new value\n",
    "      cursor.get().set(realRandomAccess.get())\n",
    "    }\n",
    "    \n",
    "    return output\n",
    "  }\n",
    "}"
   ]
  },
  {
   "cell_type": "markdown",
   "metadata": {},
   "source": [
    "The below code uses three different interpolators to 10x magnify a small area."
   ]
  },
  {
   "cell_type": "code",
   "execution_count": null,
   "metadata": {},
   "outputs": [],
   "source": [
    "import io.scif.img.ImgOpener\n",
    "import net.imglib2.FinalRealInterval\n",
    "import net.imglib2.type.numeric.real.FloatType\n",
    "import net.imglib2.interpolation.randomaccess.LanczosInterpolatorFactory\n",
    "import net.imglib2.interpolation.randomaccess.NLinearInterpolatorFactory\n",
    "import net.imglib2.interpolation.randomaccess.NearestNeighborInterpolatorFactory\n",
    "import net.imglib2.img.array.ArrayImgFactory\n",
    "import net.imglib2.view.Views\n",
    "\n",
    "enum InterpolationType {\n",
    "  NEAREST_NEIGHBOR_INTERPOLATION,\n",
    "  NLINEAR_INTERPOLATION,\n",
    "  LANCZOS_INTERPOLATION\n",
    "}\n",
    "\n",
    "// open with ImgOpener as a FloatType\n",
    "image = new ImgOpener().openImgs(\"http://samples.fiji.sc/tutorials/DrosophilaWing.tif\", new FloatType()).get(0)\n",
    "\n",
    "// define the area in the interpolated image\n",
    "double[]min = [105.12, 40.43]\n",
    "double[]max = [129.56, 74.933]\n",
    "\n",
    "interval = new FinalRealInterval(min, max)\n",
    "\n",
    "// change this variable to switch for different kind of interpolation scheme display\n",
    "interpolant_type = InterpolationType.NEAREST_NEIGHBOR_INTERPOLATION\n",
    "//interpolant_type = InterpolationType.NLINEAR_INTERPOLATION\n",
    "//interpolant_type = InterpolationType.LANCZOS_INTERPOLATION\n",
    "\n",
    "// create a RandomAccessible using the factory and views method\n",
    "// it is important to extend the image first, the interpolation scheme might\n",
    "// grep pixels outside of the boundaries even when locations inside are queried\n",
    "// as they integrate pixel information in a local neighborhood - the size of\n",
    "// this neighborhood depends on which interpolator is used\n",
    "switch (interpolant_type) {\n",
    "  case InterpolationType.NEAREST_NEIGHBOR_INTERPOLATION:\n",
    "    // create an InterpolatorFactory RealRandomAccessible using nearst neighbor interpolation\n",
    "    nn_inter_factory = new NearestNeighborInterpolatorFactory<FloatType>()\n",
    "    nn_interpolant = Views.interpolate(Views.extendMirrorSingle(image), nn_inter_factory)\n",
    "    img = mag.magnify(nn_interpolant, interval, new ArrayImgFactory<FloatType>(), 10)\n",
    "    break\n",
    "  case InterpolationType.NLINEAR_INTERPOLATION:\n",
    "    // create an InterpolatorFactory RealRandomAccessible using linear interpolation\n",
    "    linear_inter_factory = new NLinearInterpolatorFactory<FloatType>()\n",
    "    nlinear_interpolant = Views.interpolate(Views.extendMirrorSingle(image), linear_inter_factory)\n",
    "    img = mag.magnify(nlinear_interpolant, interval, new ArrayImgFactory<FloatType>(), 10)\n",
    "    break\n",
    "  case InterpolationType.LANCZOS_INTERPOLATION:\n",
    "    // create an InterpolatorFactory RealRandomAccessible using lanczos interpolation\n",
    "    lanczos_inter_factory = new LanczosInterpolatorFactory<FloatType>()\n",
    "    lanczos_interpolant = Views.interpolate(Views.extendMirrorSingle(image), lanczos_inter_factory)\n",
    "    img = mag.magnify(lanczos_interpolant, interval, new ArrayImgFactory<FloatType>(), 10)\n",
    "    break\n",
    "  default:\n",
    "    nn_inter_factory = new NearestNeighborInterpolatorFactory<FloatType>()\n",
    "    nn_interpolant = Views.interpolate(Views.extendMirrorSingle(image), nn_inter_factory)\n",
    "    img = mag.magnify(nn_interpolant, interval, new ArrayImgFactory<FloatType>(), 10)\n",
    "}\n",
    "\n",
    "ij.notebook().display(img)"
   ]
  },
  {
   "cell_type": "markdown",
   "metadata": {},
   "source": [
    "The nearest neighbor interpolation is the fastest to compute and is the most versatile as it requires no computation, but just a lookout. The result is, however, very pixelated. The linear interpolation produces reasonable results and computes quite fast. The Lanczos interpolation shows the most visually pleasing results, but also introduces slight artifacts in the background."
   ]
  }
 ],
 "metadata": {
  "kernelspec": {
   "display_name": "Groovy",
   "language": "groovy",
   "name": "groovy"
  }
 },
 "nbformat": 4,
 "nbformat_minor": 2
}
