{
 "cells": [
  {
   "cell_type": "markdown",
   "metadata": {},
   "source": [
    "# ImgLib2 \n",
    "\n",
    "Example 05: Out of bounds"
   ]
  },
  {
   "cell_type": "markdown",
   "metadata": {},
   "source": [
    "## Introduction"
   ]
  },
  {
   "cell_type": "markdown",
   "metadata": {},
   "source": [
    "Many algorithms, like convolutions, require to access pixels outside of an [**Interval**](http://javadoc.imagej.net/ImgLib2/net/imglib2/Interval.html), i.e. also pixels outside of an image. In ImgLib2 this is handled using [**Views**](http://javadoc.imagej.net/ImgLib2/net/imglib2/view/Views.html), which convert a [**RandomAccessibleInterval**](http://javadoc.imagej.net/ImgLib2/net/imglib2/RandomAccessibleInterval.html) into an infinite [**RandomAccessible**](http://javadoc.imagej.net/ImgLib2/net/imglib2/RandomAccessible.html) using an [**OutOfBoundsStrategy**](http://javadoc.imagej.net/ImgLib2/net/imglib2/view/Views.html). Those infinite [**RandomAccessibles**](http://javadoc.imagej.net/ImgLib2/net/imglib2/RandomAccessible.html) are able to return pixel values at any arbitrary location.\n",
    "\n",
    "*Important: One should never access pixels outside of the defined [**Interval**](http://javadoc.imagej.net/ImgLib2/net/imglib2/Interval.html) as it will in most cases result in unexpected behavior, depending on the kind of underlying [**RandomAccessible**]((http://javadoc.imagej.net/ImgLib2/net/imglib2/RandomAccessible.html). If it is for example an [**Img**](http://javadoc.imagej.net/ImgLib2/net/imglib2/img/Img.html), it will return wrong values or throw an exception.*\n",
    "\n",
    "Which [**OutOfBoundsStrategies**](http://javadoc.imagej.net/ImgLib2/net/imglib2/view/Views.html) to use depends on the task you want to perform. For convolutions, we suggest using the mirror strategy as it introduces the least artifacts. When working on Fourier images, the periodic strategy applies best as it correctly mimics its spatial properties. Random Value strategies might be useful to avoid accidental correlations, and constant value strategies are the most performant and might work well for simple operations or to avoid exceptions when accidental writing or reading outside of the Interval occurs."
   ]
  },
  {
   "cell_type": "markdown",
   "metadata": {},
   "source": [
    "## Bootstrap ImageJ"
   ]
  },
  {
   "cell_type": "code",
   "execution_count": null,
   "metadata": {},
   "outputs": [],
   "source": [
    "// Behind a firewall? Configure your proxy settings here.\n",
    "//systemProperties = System.getProperties()\n",
    "//systemProperties.setProperty(\"http.proxyHost\",\"myproxy.domain\")\n",
    "//systemProperties.setProperty(\"http.proxyPort\",\"8080\")\n",
    "\n",
    "//////////////////////////////////////////////////////////////\n",
    "// Load ImageJ. This may take some minutes the first time   //\n",
    "// while ImageJ is installed into ~/.groovy/grapes locally. //\n",
    "//////////////////////////////////////////////////////////////\n",
    "@GrabResolver(name='imagej', root='http://maven.imagej.net/content/groups/public/')\n",
    "@Grab('net.imagej:imagej:2.0.0-rc-58')\n",
    "import net.imagej.ImageJ\n",
    "ij = new ImageJ()\n",
    "println(\"ImageJ is ready to go.\")"
   ]
  },
  {
   "cell_type": "code",
   "execution_count": null,
   "metadata": {},
   "outputs": [],
   "source": [
    "import io.scif.img.ImgOpener;\n",
    "import net.imglib2.RandomAccessible;\n",
    "import net.imglib2.img.Img;\n",
    "import net.imglib2.type.numeric.real.FloatType;\n",
    "import net.imglib2.view.Views;\n",
    "import net.imglib2.FinalInterval;\n",
    "import net.imglib2.outofbounds.OutOfBoundsConstantValueFactory;\n",
    "import net.imglib2.view.ExtendedRandomAccessibleInterval;\n",
    "\n",
    "enum ExtendType {\n",
    "  EXTEND_VALUE_0,\n",
    "  EXTEND_VALUE_128,\n",
    "  EXTEND_RANDOM_256,\n",
    "  EXTEND_MIRROW_SINGLE,\n",
    "  EXTEND_MIRROW_DOUBLE,\n",
    "  EXTEND_PERIODIC,\n",
    "  EXTEND_RANDOM_CUSTOM\n",
    "}\n",
    "\n",
    "// open with ImgOpener as a FloatType\n",
    "image = new ImgOpener().openImgs(\"http://samples.fiji.sc/tutorials/DrosophilaWingSmall.tif\", new FloatType()).get(0)\n",
    "\n",
    "// in order to visualize them, we have to define a new interval\n",
    "// on them which can be displayed\n",
    "min = new long[image.numDimensions()]\n",
    "max = new long[image.numDimensions()]\n",
    " \n",
    "for ( int d = 0; d < image.numDimensions(); ++d ) {\n",
    "  // we add/subtract another 30 pixels here to illustrate\n",
    "  // that it is really infinite and does not only work once\n",
    "  min[d] = -image.dimension( d ) - 90\n",
    "  max[d] = image.dimension( d ) * 2 - 1 + 90\n",
    "}\n",
    "\n",
    "// define the Interval on the infinite random accessibles\n",
    "interval = new FinalInterval(min, max)\n",
    "\n",
    "// change this variable to switch for different kind of out-of-bounds display\n",
    "type = ExtendType.EXTEND_VALUE_0\n",
    "\n",
    "switch (type) {\n",
    "  case ExtendType.EXTEND_VALUE_0:\n",
    "    // create an infinite view where all values outside of the Interval are 0\n",
    "    infinite = Views.extendValue(image, new FloatType(0))\n",
    "    s = Views.interval(infinite, interval)\n",
    "    break\n",
    "  case ExtendType.EXTEND_VALUE_128:\n",
    "    // create an infinite view where all values outside of the Interval are 128\n",
    "    infinite = Views.extendValue(image, new FloatType(128))\n",
    "    s = Views.interval(infinite, interval)\n",
    "    break\n",
    "  case ExtendType.EXTEND_RANDOM_256:\n",
    "    // create an infinite view where all outside values are random in a range of 0-255\n",
    "    infinite = Views.extendRandom(image, 0, 255);\n",
    "    s = Views.interval(infinite, interval)\n",
    "    break\n",
    "  case ExtendType.EXTEND_MIRROW_SINGLE:\n",
    "    // create an infinite view where all values outside of the Interval are\n",
    "    // the mirrored content, the mirror is the last pixel\n",
    "    infinite = Views.extendMirrorSingle(image);\n",
    "    s = Views.interval(infinite, interval)\n",
    "    break\n",
    "  case ExtendType.EXTEND_MIRROW_DOUBLE:\n",
    "    // create an infinite view where all values outside of the Interval are\n",
    "    // the mirrored content, the mirror is BEHIND the last pixel,\n",
    "    // i.e. the first and last pixel are always duplicated\n",
    "    infinite = Views.extendMirrorDouble(image);\n",
    "    s = Views.interval(infinite, interval)\n",
    "    break\n",
    "  case ExtendType.EXTEND_PERIODIC:\n",
    "    // all values outside of the Interval periodically repeat the image content\n",
    "    // (like the Fourier space assumes)\n",
    "    infinite = Views.extendPeriodic(image);\n",
    "    s = Views.interval(infinite, interval)\n",
    "    break\n",
    "  case ExtendType.EXTEND_RANDOM_CUSTOM:\n",
    "    // if you implemented your own strategy that you want to instantiate, it will look like this\n",
    "    infinite = new ExtendedRandomAccessibleInterval<FloatType, Img<FloatType>>(\n",
    "      image, new OutOfBoundsConstantValueFactory<FloatType, Img<FloatType>>(new FloatType(196)));\n",
    "    s = Views.interval(infinite, interval)\n",
    "    break\n",
    "  default:\n",
    "    infinite = Views.extendValue(image, new FloatType(0))\n",
    "    s = Views.interval(infinite, interval)\n",
    "}\n",
    "\n",
    "ij.notebook().display(s)"
   ]
  }
 ],
 "metadata": {
  "kernelspec": {
   "display_name": "Groovy",
   "language": "groovy",
   "name": "groovy"
  }
 },
 "nbformat": 4,
 "nbformat_minor": 2
}
