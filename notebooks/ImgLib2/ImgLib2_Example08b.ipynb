{
 "cells": [
  {
   "cell_type": "markdown",
   "metadata": {},
   "source": [
    "# ImgLib2 \n",
    "\n",
    "Example 08: Working with sparse data"
   ]
  },
  {
   "cell_type": "markdown",
   "metadata": {},
   "source": [
    "## Introduction"
   ]
  },
  {
   "cell_type": "markdown",
   "metadata": {},
   "source": [
    "ImgLib2 supports sparsely sampled data, i.e. collections of locations together with their value. Such datasets typically implement the [IterableRealInterval](http://javadoc.imagej.net/ImgLib2/net/imglib2/IterableRealInterval.html) interface, which means they can be iterated and have real-valued locations in n-dimensional space. Currently ImgLib2 supports to store such collections either as list ([RealPointSampleList](http://javadoc.imagej.net/ImgLib2/net/imglib2/RealPointSampleList.html)) or [KDTree](http://javadoc.imagej.net/ImgLib2/net/imglib2/KDTree.html). The [RealPointSampleList](http://javadoc.imagej.net/ImgLib2/net/imglib2/RealPointSampleList.html) can be iterated, whereas the [KDTree](http://javadoc.imagej.net/ImgLib2/net/imglib2/KDTree.html) additionally supports three efficient ways of searching for nearest neighboring points in the n-dimensional space ([NearestNeighborSearch](http://javadoc.imagej.net/ImgLib2/net/imglib2/neighborsearch/NearestNeighborSearch.html), [KNearestNeighborSearch](http://javadoc.imagej.net/ImgLib2/net/imglib2/neighborsearch/KNearestNeighborSearch.html), and [RadiusNeighborSearch](http://javadoc.imagej.net/ImgLib2/net/imglib2/neighborsearch/RadiusNeighborSearch.html)).\n",
    "\n",
    "In order to display sparse data ImgLib2 currently supports two interpolation schemes, the [NearestNeighborInterpolation](http://javadoc.imagej.net/ImgLib2/net/imglib2/interpolation/randomaccess/NearestNeighborInterpolator.html) and the [InverseDistanceWeightingInterpolation](http://javadoc.imagej.net/ImgLib2/net/imglib2/interpolation/neighborsearch/InverseDistanceWeightingInterpolator.html). They can compute a value for every location in space by returning either the value of the closest sample or an interpolated, distance-weighted value of the k nearest neighbors to the sampled location. The interpolation scheme therefore converts any [IterableRealInterval](http://javadoc.imagej.net/ImgLib2/net/imglib2/IterableRealInterval.html) into a [RealRandomAccessible](http://javadoc.imagej.net/ImgLib2/net/imglib2/RealRandomAccessible.html) that can be displayed by wrapping it into a [RandomAccessible](http://javadoc.imagej.net/ImgLib2/net/imglib2/RandomAccessible.html) and defining [Interval](http://javadoc.imagej.net/ImgLib2/net/imglib2/Interval.html) using [Views](http://javadoc.imagej.net/ImgLib2/net/imglib2/view/Views.html).\n",
    "\n",
    "*This is, however, not only useful for display. Note that you execute on such data any algorithm or method that is implemented for [RealRandomAccessible](http://javadoc.imagej.net/ImgLib2/net/imglib2/RealRandomAccessible.html) or [RandomAccessible](http://javadoc.imagej.net/ImgLib2/net/imglib2/RandomAccessible.html), like Gaussian convolution in the first example. **Note that none of these ever exists in memory, it is done completely virtual on just the sparse samples.***"
   ]
  },
  {
   "cell_type": "markdown",
   "metadata": {},
   "source": [
    "## Example 8b - Randomly sample an existing image and display it"
   ]
  },
  {
   "cell_type": "markdown",
   "metadata": {},
   "source": [
    "In this example we sample an existing image at random locations and render the result using a nearest neighbor interpolation as well as a distance-weighted average of the k nearest neighbors."
   ]
  },
  {
   "cell_type": "markdown",
   "metadata": {},
   "source": [
    "## Bootstrap ImageJ"
   ]
  },
  {
   "cell_type": "code",
   "execution_count": null,
   "metadata": {},
   "outputs": [],
   "source": [
    "// Behind a firewall? Configure your proxy settings here.\n",
    "//systemProperties = System.getProperties()\n",
    "//systemProperties.setProperty(\"http.proxyHost\",\"myproxy.domain\")\n",
    "//systemProperties.setProperty(\"http.proxyPort\",\"8080\")\n",
    "\n",
    "//////////////////////////////////////////////////////////////\n",
    "// Load ImageJ. This may take some minutes the first time   //\n",
    "// while ImageJ is installed into ~/.groovy/grapes locally. //\n",
    "//////////////////////////////////////////////////////////////\n",
    "@GrabResolver(name='imagej', root='http://maven.imagej.net/content/groups/public/')\n",
    "@Grab('net.imagej:imagej:2.0.0-rc-58')\n",
    "import net.imagej.ImageJ\n",
    "ij = new ImageJ()\n",
    "println(\"ImageJ is ready to go.\")"
   ]
  },
  {
   "cell_type": "markdown",
   "metadata": {},
   "source": [
    "Below is the utility method for a given interval magnification."
   ]
  },
  {
   "cell_type": "code",
   "execution_count": null,
   "metadata": {},
   "outputs": [],
   "source": [
    "import net.imglib2.Interval\n",
    "import net.imglib2.RealInterval\n",
    "import net.imglib2.RealPointSampleList\n",
    "import net.imglib2.type.numeric.real.FloatType\n",
    "import net.imglib2.type.numeric.RealType\n",
    "import net.imglib2.RealPoint\n",
    "import net.imglib2.RealRandomAccessible\n",
    "import net.imglib2.type.Type\n",
    "import net.imglib2.KDTree\n",
    "import net.imglib2.RandomAccessibleInterval\n",
    "import net.imglib2.neighborsearch.KNearestNeighborSearch\n",
    "import net.imglib2.neighborsearch.KNearestNeighborSearchOnKDTree\n",
    "import net.imglib2.neighborsearch.NearestNeighborSearchOnKDTree\n",
    "import net.imglib2.interpolation.neighborsearch.InverseDistanceWeightingInterpolatorFactory\n",
    "import net.imglib2.interpolation.neighborsearch.NearestNeighborSearchInterpolatorFactory\n",
    "import net.imglib2.view.Views\n",
    "\n",
    "obj = new Object() {\n",
    "  /**\n",
    "   * Sample a number of n-dimensional random points in a certain interval having a * random intensity 0...1\n",
    "   *\n",
    "   * @param interval - the interval in which points are created\n",
    "   * @param numPoints - the amount of points\n",
    "   *\n",
    "   * @return a RealPointSampleList (which is an IterableRealInterval)\n",
    "   */\n",
    "  public <T extends Type<T>> RealPointSampleList<T> sampleRandomPoints(RealRandomAccessible<T> input, RealInterval interval, int numPoints) {\n",
    "    // the number of dimensions\n",
    "    numDimensions = interval.numDimensions()\n",
    "    \n",
    "    // a random number generator\n",
    "    rnd = new Random(1332441549191l)\n",
    "    \n",
    "    // a list of Samples with coordinates\n",
    "    elements = new RealPointSampleList<T>(numDimensions)\n",
    "    \n",
    "    // a random accessible in the image data to grep the right value\n",
    "    realRandomAccess = input.realRandomAccess()\n",
    "    \n",
    "    for (int i = 0; i < numPoints; ++i) {\n",
    "      point = new RealPoint( numDimensions)\n",
    "      \n",
    "      for (int d = 0; d < numDimensions; ++d) {\n",
    "        point.setPosition(rnd.nextDouble() * (interval.realMax(d) - interval.realMin(d)) + interval.realMin(d), d)\n",
    "      }\n",
    "      \n",
    "      realRandomAccess.setPosition(point)\n",
    "      \n",
    "      // add a new element with a random intensity in the range 0...1\n",
    "      elements.add(point, realRandomAccess.get().copy())\n",
    "    }\n",
    "    return elements\n",
    "  }\n",
    "  \n",
    "  /**\n",
    "   * Sample randomly n points from the input and display the interpolated result using nearest neighbors\n",
    "   *\n",
    "   * @param input - the input data\n",
    "   * @param interval - the size of the input (where to collect random samples)\n",
    "   * @param numPoints - how many points to sample\n",
    "   *\n",
    "   * @return - a RandomAccessibleInterval of the same size as the input, rendered from the sparse data\n",
    "   */\n",
    "  public <T extends Type<T>> RandomAccessibleInterval<T> randomSampling(RealRandomAccessible<T> input, Interval interval, int numPoints) {\n",
    "    // create an IterableRealInterval\n",
    "    realInterval = sampleRandomPoints(input, interval, numPoints)\n",
    "    \n",
    "    // using nearest neighbor search we will be able to return a value an any position in space\n",
    "    search = new NearestNeighborSearchOnKDTree<T>(new KDTree<T>(realInterval))\n",
    "    \n",
    "    // make it into RealRandomAccessible using nearest neighbor search\n",
    "    realRandomAccessible = Views.interpolate(search, new NearestNeighborSearchInterpolatorFactory<T>())\n",
    "    \n",
    "    // convert it into a RandomAccessible which can be displayed\n",
    "    randomAccessible = Views.raster(realRandomAccessible)\n",
    "    \n",
    "    // set the initial interval as area to view\n",
    "    return Views.interval(randomAccessible, interval)\n",
    "  }\n",
    "  \n",
    "   /**\n",
    "    * Sample randomly n points from the input and display the interpolated result using\n",
    "    * distance-weighted interpolation of 20 nearest neighbors\n",
    "    *\n",
    "    * @param input - the input data\n",
    "    * @param interval - the size of the input (where to collect random samples)\n",
    "    * @param numPoints - how many points to sample\n",
    "    *\n",
    "    * @return - a RandomAccessibleInterval of the same size as the input, rendered from the sparse data\n",
    "    */\n",
    "  public <T extends RealType<T>> RandomAccessibleInterval<T> randomSamplingKNearest(RealRandomAccessible<T> input, Interval interval, int numPoints) {\n",
    "    // create an IterableRealInterval\n",
    "    realInterval = sampleRandomPoints(input, interval, numPoints)\n",
    "    \n",
    "    // using nearest neighbor search we will be able to return a value an any position in space\n",
    "    search = new KNearestNeighborSearchOnKDTree<T>(new KDTree<T> (realInterval), Math.min(20, (int)realInterval.size()))\n",
    "    \n",
    "    // make it into RealRandomAccessible using nearest neighbor search\n",
    "    realRandomAccessible= Views.interpolate(search, new InverseDistanceWeightingInterpolatorFactory<T>())\n",
    "    \n",
    "    // convert it into a RandomAccessible which can be displayed\n",
    "    randomAccessible = Views.raster(realRandomAccessible)\n",
    "    \n",
    "    // set the initial interval as area to view\n",
    "    return Views.interval(randomAccessible, interval)\n",
    "  }\n",
    "}"
   ]
  },
  {
   "cell_type": "markdown",
   "metadata": {},
   "source": [
    "Working with sparse data, sample an existing image at random locations and render it again using an increasing number of samples."
   ]
  },
  {
   "cell_type": "code",
   "execution_count": null,
   "metadata": {},
   "outputs": [],
   "source": [
    "import net.imglib2.type.numeric.real.FloatType\n",
    "import io.scif.img.ImgOpener\n",
    "\n",
    "// open sample image with ImgOpener as FloatType\n",
    "img = new ImgOpener().openImgs(\"http://samples.fiji.sc/tutorials/DrosophilaWing.tif\", new FloatType()).get(0)\n",
    "\n",
    "// show the image\n",
    "ij.notebook().display(img)"
   ]
  },
  {
   "cell_type": "markdown",
   "metadata": {},
   "source": [
    "First we need to use linear interpolation to convert the input into a RealRandomAccessible."
   ]
  },
  {
   "cell_type": "code",
   "execution_count": null,
   "metadata": {},
   "outputs": [],
   "source": [
    "import net.imglib2.type.numeric.real.FloatType\n",
    "import net.imglib2.view.Views\n",
    "import net.imglib2.interpolation.randomaccess.NLinearInterpolatorFactory\n",
    "\n",
    "// use linear interpolation to convert the input into a RealRandomAccessible\n",
    "realRandomAccessible = Views.interpolate(Views.extendMirrorSingle(img), new NLinearInterpolatorFactory<FloatType>())"
   ]
  },
  {
   "cell_type": "markdown",
   "metadata": {},
   "source": [
    " Then it shows the rendering using nearest neighbor interpolation."
   ]
  },
  {
   "cell_type": "code",
   "execution_count": null,
   "metadata": {},
   "outputs": [],
   "source": [
    "// You can change this variable to other number\n",
    "numPoints = 4096\n",
    "randomNNSample = obj.randomSampling(realRandomAccessible, img, numPoints)\n",
    "\n",
    "// display the sampling interval\n",
    "ij.notebook().display(randomNNSample)"
   ]
  },
  {
   "cell_type": "markdown",
   "metadata": {},
   "source": [
    "At last it shows the result when use a distance weighted interpolation of the numPoints nearest neighbors."
   ]
  },
  {
   "cell_type": "code",
   "execution_count": null,
   "metadata": {},
   "outputs": [],
   "source": [
    "randomKNNSample = obj.randomSamplingKNearest(realRandomAccessible, img, numPoints)\n",
    "\n",
    "// display the sampling interval\n",
    "ij.notebook().display(randomKNNSample)"
   ]
  },
  {
   "cell_type": "markdown",
   "metadata": {},
   "source": [
    "You should notice the display and running time difference between nearest neighbor interpolation and distance weighted interpolation of k nearest neighbors."
   ]
  }
 ],
 "metadata": {
  "kernelspec": {
   "display_name": "Groovy",
   "language": "groovy",
   "name": "groovy"
  }
 },
 "nbformat": 4,
 "nbformat_minor": 2
}
