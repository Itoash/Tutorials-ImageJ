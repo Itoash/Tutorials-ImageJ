{
 "cells": [
  {
   "cell_type": "markdown",
   "metadata": {},
   "source": [
    "# ImgLib2 \n",
    "\n",
    "Example 6c - Complex numbers and Fourier transforms"
   ]
  },
  {
   "cell_type": "markdown",
   "metadata": {},
   "source": [
    "## Introduction"
   ]
  },
  {
   "cell_type": "markdown",
   "metadata": {},
   "source": [
    "In this example we show how to work with complex numbers and Fourier transforms. We show how to determine the location of a template in an image exploiting the *Fourier Shift Theorem*. We therefore compute the Fast Fourier Transform of a template, invert it and convolve it in Fourier space with the original image.\n",
    "\n",
    "Computing an FFT is straight forward. It does not offer a static method because the instance of the FFT is required to perform an inverse FFT. This is necessary because the input image needs to be extended to a size supported by the 1-d FFT method (edu_mines_jtk.jar). In order to restore the complete input image, remembering those parameters is essential.\n",
    "\n",
    "Note that for inverting the kernel we use methods defined for [**ComplexType**](http://javadoc.imagej.net/ImgLib2/net/imglib2/type/numeric/ComplexType.html), also the basic math operations add, mul, sub and div are implemented in complex math. The inverse FFT finally takes the instance of the FFT as a parameter from which it takes all required parameters for a correct inversion.\n",
    "\n",
    "The final convolution of the inverse template with the image is performed using the FourierConvolution (see example 6b). Note that all possible locations of the template in the image have been tested. The peak in the result image clearly marks the location of the template, while the computation time for the whole operation takes less than a second."
   ]
  },
  {
   "cell_type": "markdown",
   "metadata": {},
   "source": [
    "**Important: This source code is only GPLv2!**"
   ]
  },
  {
   "cell_type": "markdown",
   "metadata": {},
   "source": [
    "## Bootstrap ImageJ"
   ]
  },
  {
   "cell_type": "code",
   "execution_count": null,
   "metadata": {},
   "outputs": [],
   "source": [
    "// Behind a firewall? Configure your proxy settings here.\n",
    "//systemProperties = System.getProperties()\n",
    "//systemProperties.setProperty(\"http.proxyHost\",\"myproxy.domain\")\n",
    "//systemProperties.setProperty(\"http.proxyPort\",\"8080\")\n",
    "\n",
    "//////////////////////////////////////////////////////////////\n",
    "// Load ImageJ. This may take some minutes the first time   //\n",
    "// while ImageJ is installed into ~/.groovy/grapes locally. //\n",
    "//////////////////////////////////////////////////////////////\n",
    "@GrabResolver(name='imagej', root='http://maven.imagej.net/content/groups/public/')\n",
    "@Grab('net.imagej:imagej:2.0.0-rc-58')\n",
    "import net.imagej.ImageJ\n",
    "ij = new ImageJ()\n",
    "println(\"ImageJ is ready to go.\")"
   ]
  },
  {
   "cell_type": "markdown",
   "metadata": {},
   "source": [
    "Some utility methods can be found below."
   ]
  },
  {
   "cell_type": "code",
   "execution_count": null,
   "metadata": {},
   "outputs": [],
   "source": [
    "import net.imglib2.type.numeric.RealType\n",
    "import net.imglib2.type.numeric.real.FloatType\n",
    "import net.imglib2.util.RealSum\n",
    "\n",
    "utility = new Object() {\n",
    "  /**\n",
    "   * Computes the sum of all pixels in an iterable using RealSum\n",
    "   *\n",
    "   * @param <T> value type\n",
    "   * @param iterable - the image data\n",
    "   * @return - the sum of values\n",
    "   */\n",
    "  public <T extends RealType<T>> double sumImage(final Iterable<T> iterable) {\n",
    "    final RealSum sum = new RealSum()\n",
    "    \n",
    "    for (final T type : iterable) {\n",
    "      sum.add(type.getRealDouble())\n",
    "    }\n",
    "    \n",
    "    return sum.getSum()\n",
    "  }\n",
    "  \n",
    "  /**\n",
    "   * Norms all image values so that their sum is 1\n",
    "   *\n",
    "   * @param iterable - the image data\n",
    "   */\n",
    "  public void norm(final Iterable<FloatType> iterable) {\n",
    "    final double sum = sumImage(iterable)\n",
    "    \n",
    "    for (final FloatType type : iterable) {\n",
    "      type.setReal(type.get() / sum)\n",
    "    }\n",
    "  }\n",
    "}"
   ]
  },
  {
   "cell_type": "markdown",
   "metadata": {},
   "source": [
    "The implementation is as follows..."
   ]
  },
  {
   "cell_type": "code",
   "execution_count": null,
   "metadata": {},
   "outputs": [],
   "source": [
    "import io.scif.img.ImgOpener\n",
    "import net.imglib2.type.numeric.complex.ComplexFloatType\n",
    "import net.imglib2.type.numeric.real.FloatType\n",
    "import net.imglib2.algorithm.fft.FourierConvolution\n",
    "import net.imglib2.algorithm.fft.FourierTransform\n",
    "import net.imglib2.algorithm.fft.InverseFourierTransform\n",
    "\n",
    "// open image and kernel with ImgOpener as a FloatType\n",
    "image = new ImgOpener().openImgs(\"http://samples.fiji.sc/tutorials/DrosophilaWing.tif\", new FloatType()).get(0)\n",
    "template = new ImgOpener().openImgs(\"http://samples.fiji.sc/tutorials/WingTemplate.tif\", new FloatType()).get(0)\n",
    "\n",
    "fft = new FourierTransform<FloatType, ComplexFloatType>(template, new ComplexFloatType())\n",
    "fft.process()\n",
    "templateFFT = fft.getResult()\n",
    "\n",
    "// complex invert the kernel\n",
    "ComplexFloatType c = new ComplexFloatType()\n",
    "for (ComplexFloatType t : templateFFT) {\n",
    "  c.set(t)\n",
    "  t.complexConjugate()\n",
    "  c.mul(t)\n",
    "  t.div(c)\n",
    "}\n",
    "\n",
    "// compute inverse fourier transform of the template\n",
    "ifft = new InverseFourierTransform<FloatType, ComplexFloatType>(templateFFT, fft);\n",
    "ifft.process()\n",
    "templateInverse = ifft.getResult()\n",
    "\n",
    "// normalize the inverse template\n",
    "utility.norm(templateInverse)\n",
    "\n",
    "// compute fourier convolution of the inverse template and the image\n",
    "output = FourierConvolution.convolve(image, templateInverse)\n",
    "\n",
    "ij.notebook().display(output, 0.0, 3000.0)"
   ]
  },
  {
   "cell_type": "markdown",
   "metadata": {},
   "source": [
    "The position where the template was located in the image is significantly visible: the brightest spot in the image."
   ]
  }
 ],
 "metadata": {
  "kernelspec": {
   "display_name": "Groovy",
   "language": "groovy",
   "name": "groovy"
  }
 },
 "nbformat": 4,
 "nbformat_minor": 2
}
