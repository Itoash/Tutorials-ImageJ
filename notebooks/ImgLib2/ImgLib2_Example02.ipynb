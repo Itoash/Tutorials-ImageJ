{
 "cells": [
  {
   "cell_type": "markdown",
   "metadata": {},
   "source": [
    "# ImgLib2 \n",
    "\n",
    "Example 02: How to use Cursor, RandomAccess, and Type"
   ]
  },
  {
   "cell_type": "markdown",
   "metadata": {},
   "source": [
    "Now that we have a few basics under our belts, let's take a closer look at using [Cursor](http://javadoc.imagej.net/ImgLib2/net/imglib2/Cursor.html), [RandomAccess](http://javadoc.imagej.net/ImgLib2/net/imglib2/RandomAccess.html), and [Type](http://javadoc.imagej.net/ImgLib2/net/imglib2/type/Type.html). You can see these same tutorials on the ImageJ Wiki [here](http://imagej.net/ImgLib2_Examples#Example_2_-_How_to_use_Cursor.2C_RandomAccess_and_Type)."
   ]
  },
  {
   "cell_type": "markdown",
   "metadata": {},
   "source": [
    "The following examples illustrate how to access pixels using [Cursor](http://javadoc.imagej.net/ImgLib2/net/imglib2/Cursor.html) and [RandomAccess](http://javadoc.imagej.net/ImgLib2/net/imglib2/RandomAccess.html), their basic properties, and how to modify pixel values using [Type](http://javadoc.imagej.net/ImgLib2/net/imglib2/type/Type.html).\n",
    "\n",
    "Accessing pixels using a [Cursor](http://javadoc.imagej.net/ImgLib2/net/imglib2/Cursor.html) means to iterate all pixels in a way similar to iterating Java collections. However, a [Cursor](http://javadoc.imagej.net/ImgLib2/net/imglib2/Cursor.html) only ensures to visit each pixel exactly once, the order of iteration is not fixed in order to optimize the speed of iteration. This implies that that the order of iteration on two different [Img](http://javadoc.imagej.net/ImgLib2/net/imglib2/img/Img.html) is not necessarily the same, see the example for \"Duplicating an Img using a different ImgFactory\". [Cursor](http://javadoc.imagej.net/ImgLib2/net/imglib2/Cursor.html)s can be created by any object that implements [IterableInterval](http://javadoc.imagej.net/ImgLib2/net/imglib2/IterableInterval.html), such as an [Img](http://javadoc.imagej.net/ImgLib2/net/imglib2/img/Img.html). [Views](http://javadoc.imagej.net/ImgLib2/net/imglib2/view/Views.html) that are not infinite can be made iterable (see the example for \"Generic copying of image data\"). Note that in general a [Cursor](http://javadoc.imagej.net/ImgLib2/net/imglib2/Cursor.html) has significantly higher performance than a [RandomAccess](http://javadoc.imagej.net/ImgLib2/net/imglib2/RandomAccess.html) and should therefore be given preference if possible.\n",
    "\n",
    "In contrast to iterating image data, a [RandomAccess](http://javadoc.imagej.net/ImgLib2/net/imglib2/RandomAccess.html) can be placed at arbitrary locations. It is possible to set them to a specific n-dimensional coordinate or move them relative to their current position. Note that relative movements are usually more performant. A [RandomAccess](http://javadoc.imagej.net/ImgLib2/net/imglib2/RandomAccess.html) can be created by any object that implements [RandomAccessible](http://javadoc.imagej.net/ImgLib2/net/imglib2/RandomAccessible.html), like an [Img](http://javadoc.imagej.net/ImgLib2/net/imglib2/img/Img.html) or a [View](http://javadoc.imagej.net/ImgLib2/net/imglib2/View.html).\n",
    "\n",
    "[Localizable](http://javadoc.imagej.net/ImgLib2/net/imglib2/Localizable.html) is implemented by [Cursor](http://javadoc.imagej.net/ImgLib2/net/imglib2/Cursor.html) as well as [RandomAccess](http://javadoc.imagej.net/ImgLib2/net/imglib2/RandomAccess.html), which means they are able to report their current location. However, for [Cursor](http://javadoc.imagej.net/ImgLib2/net/imglib2/Cursor.html) we differentiate between a **LocalizingCursor** and a normal [Cursor](http://javadoc.imagej.net/ImgLib2/net/imglib2/Cursor.html). A **LocalizingCursor** updates his position on every move, no matter if it is queried or not whereas a normal [Cursor](http://javadoc.imagej.net/ImgLib2/net/imglib2/Cursor.html) computes its location on demand. Using a **LocalizingCursor** is more efficient if the location is queried for every pixel, a [Cursor](http://javadoc.imagej.net/ImgLib2/net/imglib2/Cursor.html) will be faster when localizing only occasionally.\n",
    "\n",
    "The [Sampler](http://javadoc.imagej.net/ImgLib2/net/imglib2/Sampler.html) interface implemented by [Cursor](http://javadoc.imagej.net/ImgLib2/net/imglib2/Cursor.html) and [RandomAccess](http://javadoc.imagej.net/ImgLib2/net/imglib2/RandomAccess.html) provides access to the [Type](http://javadoc.imagej.net/ImgLib2/net/imglib2/type/Type.html) instance of the current pixel. Using the [Type](http://javadoc.imagej.net/ImgLib2/net/imglib2/type/Type.html) instance it is possible to read and write its current value. Depending on the capabilities of the [Type](http://javadoc.imagej.net/ImgLib2/net/imglib2/type/Type.html) more operations are available, e.g. +, -, *, / if it is a [NumericType](http://javadoc.imagej.net/ImgLib2/net/imglib2/type/numeric/NumericType.html)."
   ]
  },
  {
   "cell_type": "code",
   "execution_count": null,
   "metadata": {},
   "outputs": [],
   "source": [
    "// Behind a firewall? Configure your proxy settings here.\n",
    "//systemProperties = System.getProperties()\n",
    "//systemProperties.setProperty(\"http.proxyHost\",\"myproxy.domain\")\n",
    "//systemProperties.setProperty(\"http.proxyPort\",\"8080\")\n",
    "\n",
    "//////////////////////////////////////////////////////////////\n",
    "// Load ImageJ. This may take some minutes the first time   //\n",
    "// while ImageJ is installed into ~/.groovy/grapes locally. //\n",
    "//////////////////////////////////////////////////////////////\n",
    "@GrabResolver(name='imagej', root='http://maven.imagej.net/content/groups/public/')\n",
    "@Grab('net.imagej:imagej:2.0.0-rc-58')\n",
    "import net.imagej.ImageJ\n",
    "ij = new ImageJ()\n",
    "println(\"ImageJ is ready to go.\")"
   ]
  },
  {
   "cell_type": "markdown",
   "metadata": {},
   "source": [
    "## Duplicating an Img using a generic method"
   ]
  },
  {
   "cell_type": "markdown",
   "metadata": {},
   "source": [
    "The goal of this example is to make a copy of an existing [Img](http://javadoc.imagej.net/ImgLib2/net/imglib2/img/Img.html). For this task it is sufficient to employ [Cursor](http://javadoc.imagej.net/ImgLib2/net/imglib2/Cursor.html)s. The order of iteration for both [Img](http://javadoc.imagej.net/ImgLib2/net/imglib2/img/Img.html)'s will be the same as they are instantiated using the same [ImgFactory](http://javadoc.imagej.net/ImgLib2/net/imglib2/img/ImgFactory.html). It is possible to test if two [IterableInterval](http://javadoc.imagej.net/ImgLib2/net/imglib2/IterableInterval.html)s have the same iteration order:\n",
    "\n",
    "<code>boolean sameIterationOrder = interval1.iterationOrder().equals( interval2.iterationOrder() );</code>\n",
    "\n",
    "The copy method itself is a generic method, it will work on any kind of [Type](http://javadoc.imagej.net/ImgLib2/net/imglib2/type/Type.html). In this particular case it works on a [FloatType](http://javadoc.imagej.net/ImgLib2/net/imglib2/type/numeric/real/FloatType.html), but would also work on anything else like for example a [ComplexDoubleType](http://javadoc.imagej.net/ImgLib2/net/imglib2/type/numeric/complex/ComplexDoubleType.html). The declaration of the generic type is done in the method declaration:\n",
    "\n",
    "<code> public < T extends Type < T > > Img< T > copyImage( ... )</code>\n",
    "\n",
    "**< T extends Type< T > >** basically means that **T** can be anything that extends [Type](http://javadoc.imagej.net/ImgLib2/net/imglib2/type/Type.html). These can be final implementations such as [FloatType](http://javadoc.imagej.net/ImgLib2/net/imglib2/type/numeric/real/FloatType.html) or also intermediate interfaces such as [RealType](http://javadoc.imagej.net/ImgLib2/net/imglib2/type/numeric/RealType.html). This, however, also means that in the method body only operations supported by [Type](http://javadoc.imagej.net/ImgLib2/net/imglib2/type/Type.html) will be available. Note that the method returns a **T**, which also means that in the constructor from which we call method it will also return an **Img< FloatType >** as we provide it with one."
   ]
  },
  {
   "cell_type": "code",
   "execution_count": null,
   "metadata": {},
   "outputs": [],
   "source": [
    "import io.scif.img.ImgIOException\n",
    "import net.imglib2.Cursor\n",
    "import net.imglib2.img.Img;\n",
    "import net.imglib2.type.Type\n",
    " \n",
    "/**\n",
    "* Generic, type-agnostic method to create an identical copy of an Img\n",
    "*\n",
    "* @param input - the Img to copy\n",
    "* @return - the copy of the Img\n",
    "*/\n",
    "construct03 = new Object() {\n",
    "  public < T extends Type< T > > Img< T > copyImage( final Img< T > input ) {\n",
    "    // create a new Image with the same properties\n",
    "    // note that the input provides the size for the new image as it implements\n",
    "    // the Interval interface\n",
    "    output = input.factory().create( input, input.firstElement() )\n",
    " \n",
    "    // create a cursor for both images\n",
    "    cursorInput = input.cursor()\n",
    "    cursorOutput = output.cursor()\n",
    " \n",
    "    // iterate over the input\n",
    "    while ( cursorInput.hasNext())\n",
    "    {\n",
    "      // move both cursors forward by one pixel\n",
    "      cursorInput.fwd()\n",
    "      cursorOutput.fwd()\n",
    " \n",
    "      // set the value of this pixel of the output image to the same as the input,\n",
    "      // every Type supports T.set( T type )\n",
    "      cursorOutput.get().set( cursorInput.get() )\n",
    "    }\n",
    " \n",
    "    // return the copy\n",
    "    return output\n",
    "  }\n",
    "}"
   ]
  },
  {
   "cell_type": "markdown",
   "metadata": {},
   "source": [
    "We will now make a copy of an Image into another one using the generic method above."
   ]
  },
  {
   "cell_type": "code",
   "execution_count": null,
   "metadata": {},
   "outputs": [],
   "source": [
    "import io.scif.img.ImgOpener\n",
    "import net.imglib2.type.numeric.real.FloatType\n",
    "\n",
    "// open with ImgOpener as a FloatType\n",
    "img = new ImgOpener().openImg( \"http://samples.fiji.sc/tutorials/DrosophilaWing.tif\", new FloatType() )\n",
    " \n",
    "// copy the image, as it is a generic method it also works with FloatType\n",
    "duplicate = construct03.copyImage( img )\n",
    " \n",
    "// display the copy\n",
    "ij.notebook().display( duplicate )   "
   ]
  },
  {
   "cell_type": "markdown",
   "metadata": {},
   "source": [
    "## Duplicating an Img using a different ImgFactory"
   ]
  },
  {
   "cell_type": "markdown",
   "metadata": {},
   "source": [
    "<span style=\"color:red\">WARNING: The **copyImageWrong** method in this example makes a mistake on purpose!</span> It intends to show that the iteration order of [Cursor](http://javadoc.imagej.net/ImgLib2/net/imglib2/Cursor.html)s is important to consider. The goal is to copy the content of an [ArrayImg](http://javadoc.imagej.net/ImgLib2/net/imglib2/img/array/ArrayImg.html) (i.e. an [Img](http://javadoc.imagej.net/ImgLib2/net/imglib2/img/Img.html) that was created using an [ArrayImgFactory](http://javadoc.imagej.net/ImgLib2/net/imglib2/img/array/ArrayImgFactory.html)) into a [CellImg](http://javadoc.imagej.net/ImgLib2/net/imglib2/img/cell/CellImg.html). Using only [Cursor](http://javadoc.imagej.net/ImgLib2/net/imglib2/Cursor.html)s for both images will have a wrong result as an [ArrayImg](http://javadoc.imagej.net/ImgLib2/net/imglib2/img/array/ArrayImg.html) and a [CellImg](http://javadoc.imagej.net/ImgLib2/net/imglib2/img/cell/CellImg.html) have different iteration orders. An [ArrayImg](http://javadoc.imagej.net/ImgLib2/net/imglib2/img/array/ArrayImg.html) is iterated linearly, while a [CellImg](http://javadoc.imagej.net/ImgLib2/net/imglib2/img/cell/CellImg.html) is iterated cell-by-cell, but linearly within each cell."
   ]
  },
  {
   "cell_type": "code",
   "execution_count": null,
   "metadata": {},
   "outputs": [],
   "source": [
    "import net.imglib2.Cursor;\n",
    "import net.imglib2.img.Img;\n",
    "import net.imglib2.img.ImgFactory;\n",
    "import net.imglib2.type.Type;\n",
    "\n",
    "/**\n",
    "* WARNING: This method makes a mistake on purpose!\n",
    "*/\n",
    "construct04 = new Object() {\n",
    "  public < T extends Type< T >> Img< T > copyImageWrong( final Img< T > input, final ImgFactory< T > imgFactory ) {\n",
    "    // create a new Image with the same dimensions but the other imgFactory\n",
    "    // note that the input provides the size for the new image as it\n",
    "    // implements the Interval interface\n",
    "    output = imgFactory.create( input, input.firstElement() )\n",
    " \n",
    "    // create a cursor for both images\n",
    "    cursorInput = input.cursor()\n",
    "    cursorOutput = output.cursor()\n",
    " \n",
    "    // iterate over the input cursor\n",
    "    while ( cursorInput.hasNext())\n",
    "    {\n",
    "      // move both forward\n",
    "      cursorInput.fwd()\n",
    "      cursorOutput.fwd()\n",
    " \n",
    "      // set the value of this pixel of the output image, every Type supports T.set( T type )\n",
    "      cursorOutput.get().set( cursorInput.get() )\n",
    "    }\n",
    " \n",
    "    // return the copy\n",
    "    return output\n",
    "    }\n",
    "}"
   ]
  },
  {
   "cell_type": "code",
   "execution_count": null,
   "metadata": {},
   "outputs": [],
   "source": [
    "import io.scif.img.ImgOpener;\n",
    "import net.imglib2.img.Img;\n",
    "import net.imglib2.img.array.ArrayImgFactory;\n",
    "import net.imglib2.img.cell.CellImgFactory;\n",
    "import net.imglib2.type.numeric.real.FloatType;\n",
    "\n",
    "// open with ImgOpener. In addition to using ImgOptions, we can directly\n",
    "// pass an ImgFactory to the ImgOpener. This bypasses the Img selection\n",
    "// heuristic and allows custom ImgFactory implementations to be used\n",
    "img = (Img< FloatType >) new ImgOpener().openImg( \"http://samples.fiji.sc/tutorials/DrosophilaWing.tif\", new ArrayImgFactory< FloatType >() )\n",
    " \n",
    "// copy the image into a CellImg with a cellsize of 20x20\n",
    "duplicate = construct04.copyImageWrong( img, new CellImgFactory< FloatType >( 20 ) )\n",
    " \n",
    "// display the copy\n",
    "ij.notebook().display( duplicate )"
   ]
  },
  {
   "cell_type": "markdown",
   "metadata": {},
   "source": [
    "<span style=\"color:red\">The correct code for the copy-method (in **copyImageCorrect**) requires the use of a [RandomAccess](http://javadoc.imagej.net/ImgLib2/net/imglib2/RandomAccess.html).</span> We use a [Cursor](http://javadoc.imagej.net/ImgLib2/net/imglib2/Cursor.html) to iterate over all pixels of the input and a [RandomAccess](http://javadoc.imagej.net/ImgLib2/net/imglib2/RandomAccess.html) which we set to the same location as the output. Note that the **setPosition()** call of the [RandomAccess](http://javadoc.imagej.net/ImgLib2/net/imglib2/RandomAccess.html) directly takes the [Cursor](http://javadoc.imagej.net/ImgLib2/net/imglib2/Cursor.html) as input, which is possible because [Cursor](http://javadoc.imagej.net/ImgLib2/net/imglib2/Cursor.html) implements [Localizable](http://javadoc.imagej.net/ImgLib2/net/imglib2/Localizable.html). Please also note that we use a **LocalizingCursor** instead of a normal [Cursor](http://javadoc.imagej.net/ImgLib2/net/imglib2/Cursor.html) because we need the location of the [Cursor](http://javadoc.imagej.net/ImgLib2/net/imglib2/Cursor.html) at every pixel."
   ]
  },
  {
   "cell_type": "code",
   "execution_count": null,
   "metadata": {},
   "outputs": [],
   "source": [
    "//import io.scif.img.ImgIOException;\n",
    "//import io.scif.img.ImgOpener;\n",
    "import net.imglib2.Cursor;\n",
    "import net.imglib2.RandomAccess;\n",
    "import net.imglib2.img.Img;\n",
    "import net.imglib2.img.ImgFactory;\n",
    "//import net.imglib2.img.array.ArrayImgFactory;\n",
    "//import net.imglib2.img.cell.CellImgFactory;\n",
    "import net.imglib2.type.Type;\n",
    "//import net.imglib2.type.numeric.real.FloatType;\n",
    "\n",
    "/**\n",
    "* This method copies the image correctly, using a RandomAccess.\n",
    "*/\n",
    "construct05 = new Object() {\n",
    "  public < T extends Type< T >> Img< T > copyImageCorrect( final Img< T > input, final ImgFactory< T > imgFactory ) {\n",
    "    // create a new Image with the same dimensions but the other imgFactory\n",
    "    // note that the input provides the size for the new image by implementing the Interval interface\n",
    "    Img< T > output = imgFactory.create( input, input.firstElement() );\n",
    " \n",
    "    // create a cursor that automatically localizes itself on every move\n",
    "    Cursor< T > cursorInput = input.localizingCursor();\n",
    "    RandomAccess< T > randomAccess = output.randomAccess();\n",
    " \n",
    "    // iterate over the input cursor\n",
    "    while ( cursorInput.hasNext())\n",
    "    {\n",
    "      // move input cursor forward\n",
    "      cursorInput.fwd();\n",
    " \n",
    "      // set the output cursor to the position of the input cursor\n",
    "      randomAccess.setPosition( cursorInput );\n",
    " \n",
    "      // set the value of this pixel of the output image, every Type supports T.set( T type )\n",
    "      randomAccess.get().set( cursorInput.get() );\n",
    "    }\n",
    "    // return the copy\n",
    "    return output;\n",
    "  }\n",
    "}"
   ]
  },
  {
   "cell_type": "code",
   "execution_count": null,
   "metadata": {},
   "outputs": [],
   "source": [
    "import io.scif.img.ImgOpener;\n",
    "import net.imglib2.img.Img;\n",
    "import net.imglib2.img.array.ArrayImgFactory;\n",
    "import net.imglib2.img.cell.CellImgFactory;\n",
    "import net.imglib2.type.numeric.real.FloatType;\n",
    "\n",
    "// open with ImgOpener. In addition to using ImgOptions, we can directly\n",
    "// pass an ImgFactory to the ImgOpener. This bypasses the Img selection\n",
    "// heuristic and allows custom ImgFactory implementations to be used\n",
    "img = (Img< FloatType >) new ImgOpener().openImg( \"http://samples.fiji.sc/tutorials/DrosophilaWing.tif\", new ArrayImgFactory< FloatType >() )\n",
    " \n",
    "// copy the image into a CellImg with a cellsize of 20x20\n",
    "duplicate = construct05.copyImageCorrect( img, new CellImgFactory< FloatType >( 20 ) )\n",
    " \n",
    "// display the copy\n",
    "ij.notebook().display( duplicate )"
   ]
  },
  {
   "cell_type": "markdown",
   "metadata": {},
   "source": [
    "## Generic copying of image data"
   ]
  },
  {
   "cell_type": "markdown",
   "metadata": {},
   "source": [
    "In order to write a method that generically copies data requires an implementation for the underlying concepts of [RandomAccessible](http://javadoc.imagej.net/ImgLib2/net/imglib2/RandomAccessible.html), [Iterable](http://javadoc.imagej.net/Java/java/lang/Iterable.html?is-external=true) and [Interval](http://javadoc.imagej.net/ImgLib2/net/imglib2/Interval.html). In that way, it will run on [Img](http://javadoc.imagej.net/ImgLib2/net/imglib2/img/Img.html), [View](http://javadoc.imagej.net/ImgLib2/net/imglib2/View.html) and any other class implemented for these interfaces (even if they do not exist yet).\n",
    "\n",
    "Therefore we design the copy method in a way that the target is an [IterableInterval](http://javadoc.imagej.net/ImgLib2/net/imglib2/IterableInterval.html) and the source is [RandomAccessible](http://javadoc.imagej.net/ImgLib2/net/imglib2/RandomAccessible.html). In this way, we simply iterate over the target and copy the corresponding pixels from the source.\n",
    "\n",
    "As the source only needs to be [RandomAccessible](http://javadoc.imagej.net/ImgLib2/net/imglib2/RandomAccessible.html), it can be basically anything that can return a value at a certain location. This can be as simple as an [Img](http://javadoc.imagej.net/ImgLib2/net/imglib2/img/Img.html), but also interpolated sparse data, a function, a ray-tracer, a [View](http://javadoc.imagej.net/ImgLib2/net/imglib2/View.html), ....\n",
    "\n",
    "As the target needs to be an [IterableInterval](http://javadoc.imagej.net/ImgLib2/net/imglib2/IterableInterval.html), it is more confined. This, however does not necessarily mean that it can only be an [Img](http://javadoc.imagej.net/ImgLib2/net/imglib2/img/Img.html) or a [View](http://javadoc.imagej.net/ImgLib2/net/imglib2/View.html) that is not infinite. It simply means it has to be something that is iterable and not infinite, which for example also applies to sparse data (e.g. a list of locations and their values)."
   ]
  },
  {
   "cell_type": "code",
   "execution_count": null,
   "metadata": {},
   "outputs": [],
   "source": [
    "import net.imglib2.IterableInterval;\n",
    "import net.imglib2.RandomAccessible;\n",
    "import net.imglib2.type.Type;\n",
    "\n",
    "/**\n",
    "     * Copy from a source that is just RandomAccessible to an IterableInterval. Latter one defines\n",
    "     * size and location of the copy operation. It will query the same pixel locations of the\n",
    "     * IterableInterval in the RandomAccessible. It is up to the developer to ensure that these\n",
    "     * coordinates match.\n",
    "     *\n",
    "     * Note that both, input and output could be Views, Img or anything that implements\n",
    "     * those interfaces.\n",
    "     *\n",
    "     * @param source - a RandomAccess as source that can be infinite\n",
    "     * @param target - an IterableInterval as target\n",
    "     */\n",
    "construct06 = new Object() {\n",
    "    public < T extends Type< T > > void copy( final RandomAccessible< T > source, final IterableInterval< T > target ) {\n",
    "        // create a cursor that automatically localizes itself on every move\n",
    "        targetCursor = target.localizingCursor()\n",
    "        sourceRandomAccess = source.randomAccess()\n",
    " \n",
    "        // iterate over the input cursor\n",
    "        while ( targetCursor.hasNext())\n",
    "        {\n",
    "            // move input cursor forward\n",
    "            targetCursor.fwd()\n",
    " \n",
    "            // set the output cursor to the position of the input cursor\n",
    "            sourceRandomAccess.setPosition( targetCursor )\n",
    " \n",
    "            // set the value of this pixel of the output image, every Type supports T.set( T type )\n",
    "            targetCursor.get().set( sourceRandomAccess.get() )\n",
    "        }\n",
    "    }\n",
    "}"
   ]
  },
  {
   "cell_type": "markdown",
   "metadata": {},
   "source": [
    "First, we will copy an Image into another with a LocalizingCursor."
   ]
  },
  {
   "cell_type": "code",
   "execution_count": null,
   "metadata": {},
   "outputs": [],
   "source": [
    "import io.scif.img.ImgOpener;\n",
    "import net.imglib2.type.numeric.real.FloatType;\n",
    " \n",
    "// open with ImgOpener as a float\n",
    "img = new ImgOpener().openImg(\"http://samples.fiji.sc/tutorials/DrosophilaWing.tif\", new FloatType())\n",
    " \n",
    "// copy & display an image\n",
    "duplicate = img.factory().create( img, img.firstElement() )\n",
    "construct06.copy( img, duplicate )\n",
    "ij.notebook().display(duplicate)"
   ]
  },
  {
   "cell_type": "markdown",
   "metadata": {},
   "source": [
    "Then, we will copy an Image into another with a RandomAccess."
   ]
  },
  {
   "cell_type": "code",
   "execution_count": null,
   "metadata": {},
   "outputs": [],
   "source": [
    "import io.scif.img.ImgOpener;\n",
    "import net.imglib2.type.numeric.real.FloatType;\n",
    "import net.imglib2.view.Views;\n",
    " \n",
    "// open with ImgOpener as a float\n",
    "img = new ImgOpener().openImg(\"http://samples.fiji.sc/tutorials/DrosophilaWing.tif\", new FloatType())\n",
    " \n",
    "// use a View to define an interval as source for copying\n",
    "// Views.offsetInterval() does not only define where it is, but also adds a translation\n",
    "// so that the minimal coordinate (upper left) of the view maps to (0,0)\n",
    "long[] offset = [100, 100]\n",
    "long[] dimension = [250, 150]\n",
    "viewSource = Views.offsetInterval( img, offset, dimension)\n",
    " \n",
    "// and as target\n",
    "long[] targetOffset = [500, 200]\n",
    "long[] targetDimension = [250, 150]\n",
    "viewTarget = Views.offsetInterval( img, targetOffset, targetDimension)\n",
    " \n",
    "// now we make the target iterable\n",
    "// (which is possible because it is a RandomAccessibleInterval)\n",
    "iterableTarget = Views.iterable( viewTarget )\n",
    " \n",
    "// copy it into the original image (overwriting part of img)\n",
    "construct06.copy( viewSource, iterableTarget )\n",
    " \n",
    "// show the original image\n",
    "ij.notebook().display( img )"
   ]
  }
 ],
 "metadata": {
  "kernelspec": {
   "display_name": "Groovy",
   "language": "groovy",
   "name": "groovy"
  }
 },
 "nbformat": 4,
 "nbformat_minor": 2
}
