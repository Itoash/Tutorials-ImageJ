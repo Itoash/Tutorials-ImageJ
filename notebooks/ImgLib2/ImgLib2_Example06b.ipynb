{
 "cells": [
  {
   "cell_type": "markdown",
   "metadata": {},
   "source": [
    "# ImgLib2 \n",
    "\n",
    "Example 6b - Convolution in Fourier space"
   ]
  },
  {
   "cell_type": "markdown",
   "metadata": {},
   "source": [
    "## Introduction"
   ]
  },
  {
   "cell_type": "markdown",
   "metadata": {},
   "source": [
    "In image processing, it is sometimes necessary to convolve images with non-separable kernels. This can be efficiently done in Fourier space exploiting the convolution theorem. It states that a convolution in real-space corresponds to a multiplication in Fourier-space, and vice versa. Note that the computation time for such a convolution is independent of the size and shape of the kernel.\n",
    "\n",
    "*Note: that it is useful to normalize the kernel prior to Fourier convolution so that the sum of all pixels is one. Otherwise, the resulting intensities will be increased.*"
   ]
  },
  {
   "cell_type": "markdown",
   "metadata": {},
   "source": [
    "**Important: This source code is only GPLv2!**"
   ]
  },
  {
   "cell_type": "markdown",
   "metadata": {},
   "source": [
    "## Bootstrap ImageJ"
   ]
  },
  {
   "cell_type": "code",
   "execution_count": null,
   "metadata": {},
   "outputs": [],
   "source": [
    "// Behind a firewall? Configure your proxy settings here.\n",
    "//systemProperties = System.getProperties()\n",
    "//systemProperties.setProperty(\"http.proxyHost\",\"myproxy.domain\")\n",
    "//systemProperties.setProperty(\"http.proxyPort\",\"8080\")\n",
    "\n",
    "//////////////////////////////////////////////////////////////\n",
    "// Load ImageJ. This may take some minutes the first time   //\n",
    "// while ImageJ is installed into ~/.groovy/grapes locally. //\n",
    "//////////////////////////////////////////////////////////////\n",
    "@GrabResolver(name='imagej', root='http://maven.imagej.net/content/groups/public/')\n",
    "@Grab('net.imagej:imagej:2.0.0-rc-58')\n",
    "import net.imagej.ImageJ\n",
    "ij = new ImageJ()\n",
    "println(\"ImageJ is ready to go.\")"
   ]
  },
  {
   "cell_type": "markdown",
   "metadata": {},
   "source": [
    "Some utility methods can be found below."
   ]
  },
  {
   "cell_type": "code",
   "execution_count": null,
   "metadata": {},
   "outputs": [],
   "source": [
    "import net.imglib2.type.numeric.RealType\n",
    "import net.imglib2.type.numeric.real.FloatType\n",
    "import net.imglib2.util.RealSum\n",
    "\n",
    "utility = new Object() {\n",
    "  /**\n",
    "   * Computes the sum of all pixels in an iterable using RealSum\n",
    "   *\n",
    "   * @param <T> value type\n",
    "   * @param iterable - the image data\n",
    "   * @return - the sum of values\n",
    "   */\n",
    "  public <T extends RealType<T>> double sumImage(final Iterable<T> iterable) {\n",
    "    final RealSum sum = new RealSum()\n",
    "    \n",
    "    for (final T type : iterable) {\n",
    "      sum.add(type.getRealDouble())\n",
    "    }\n",
    "    \n",
    "    return sum.getSum()\n",
    "  }\n",
    "  \n",
    "  /**\n",
    "   * Norms all image values so that their sum is 1\n",
    "   *\n",
    "   * @param iterable - the image data\n",
    "   */\n",
    "  public void norm(final Iterable<FloatType> iterable) {\n",
    "    final double sum = sumImage(iterable)\n",
    "    \n",
    "    for (final FloatType type : iterable) {\n",
    "      type.setReal(type.get() / sum)\n",
    "    }\n",
    "  }\n",
    "}"
   ]
  },
  {
   "cell_type": "markdown",
   "metadata": {},
   "source": [
    "The implementation is as follows..."
   ]
  },
  {
   "cell_type": "code",
   "execution_count": null,
   "metadata": {},
   "outputs": [],
   "source": [
    "import io.scif.img.ImgOpener\n",
    "import net.imglib2.img.Img\n",
    "import net.imglib2.type.numeric.real.FloatType\n",
    "import net.imglib2.algorithm.fft2.FFTConvolution\n",
    "import net.imglib2.view.Views\n",
    "import net.imglib2.RandomAccessibleInterval\n",
    "\n",
    "// open image and kernel with ImgOpener as a FloatType\n",
    "image = new ImgOpener().openImgs(\"http://samples.fiji.sc/tutorials/DrosophilaWing.tif\", new FloatType()).get(0)\n",
    "kernel = new ImgOpener().openImgs(\"http://samples.fiji.sc/tutorials/kernelRing.tif\",new FloatType()).get(0)\n",
    "\n",
    "// normalize the kernel, otherwise we add energy to the image\n",
    "utility.norm(kernel)\n",
    "\n",
    "// compute & show fourier convolution (in-place)\n",
    "fft2 = new FFTConvolution<FloatType>(image, kernel)\n",
    "fft2.convolve()\n",
    "\n",
    "ij.notebook().display(image)"
   ]
  }
 ],
 "metadata": {
  "kernelspec": {
   "display_name": "Groovy",
   "language": "groovy",
   "name": "groovy"
  }
 },
 "nbformat": 4,
 "nbformat_minor": 2
}
