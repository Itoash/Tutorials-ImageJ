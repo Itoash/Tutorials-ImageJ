{
 "cells": [
  {
   "cell_type": "markdown",
   "metadata": {},
   "source": [
    "# ImgLib2 \n",
    "\n",
    "Example 08: Working with sparse data"
   ]
  },
  {
   "cell_type": "markdown",
   "metadata": {},
   "source": [
    "## Introduction"
   ]
  },
  {
   "cell_type": "markdown",
   "metadata": {},
   "source": [
    "ImgLib2 supports sparsely sampled data, i.e. collections of locations together with their value. Such datasets typically implement the [IterableRealInterval](http://javadoc.imagej.net/ImgLib2/net/imglib2/IterableRealInterval.html) interface, which means they can be iterated and have real-valued locations in n-dimensional space. Currently ImgLib2 supports to store such collections either as list ([RealPointSampleList](http://javadoc.imagej.net/ImgLib2/net/imglib2/RealPointSampleList.html)) or [KDTree](http://javadoc.imagej.net/ImgLib2/net/imglib2/KDTree.html). The [RealPointSampleList](http://javadoc.imagej.net/ImgLib2/net/imglib2/RealPointSampleList.html) can be iterated, whereas the [KDTree](http://javadoc.imagej.net/ImgLib2/net/imglib2/KDTree.html) additionally supports three efficient ways of searching for nearest neighboring points in the n-dimensional space ([NearestNeighborSearch](http://javadoc.imagej.net/ImgLib2/net/imglib2/neighborsearch/NearestNeighborSearch.html), [KNearestNeighborSearch](http://javadoc.imagej.net/ImgLib2/net/imglib2/neighborsearch/KNearestNeighborSearch.html), and [RadiusNeighborSearch](http://javadoc.imagej.net/ImgLib2/net/imglib2/neighborsearch/RadiusNeighborSearch.html)).\n",
    "\n",
    "In order to display sparse data ImgLib2 currently supports two interpolation schemes, the [NearestNeighborInterpolation](http://javadoc.imagej.net/ImgLib2/net/imglib2/interpolation/randomaccess/NearestNeighborInterpolator.html) and the [InverseDistanceWeightingInterpolation](http://javadoc.imagej.net/ImgLib2/net/imglib2/interpolation/neighborsearch/InverseDistanceWeightingInterpolator.html). They can compute a value for every location in space by returning either the value of the closest sample or an interpolated, distance-weighted value of the k nearest neighbors to the sampled location. The interpolation scheme therefore converts any [IterableRealInterval](http://javadoc.imagej.net/ImgLib2/net/imglib2/IterableRealInterval.html) into a [RealRandomAccessible](http://javadoc.imagej.net/ImgLib2/net/imglib2/RealRandomAccessible.html) that can be displayed by wrapping it into a [RandomAccessible](http://javadoc.imagej.net/ImgLib2/net/imglib2/RandomAccessible.html) and defining [Interval](http://javadoc.imagej.net/ImgLib2/net/imglib2/Interval.html) using [Views](http://javadoc.imagej.net/ImgLib2/net/imglib2/view/Views.html).\n",
    "\n",
    "*This is, however, not only useful for display. Note that you execute on such data any algorithm or method that is implemented for [RealRandomAccessible](http://javadoc.imagej.net/ImgLib2/net/imglib2/RealRandomAccessible.html) or [RandomAccessible](http://javadoc.imagej.net/ImgLib2/net/imglib2/RandomAccessible.html), like Gaussian convolution in the first example. **Note that none of these ever exists in memory, it is done completely virtual on just the sparse samples.***"
   ]
  },
  {
   "cell_type": "markdown",
   "metadata": {},
   "source": [
    "## Example 8a - Create random sparse data, display and convolve it"
   ]
  },
  {
   "cell_type": "markdown",
   "metadata": {},
   "source": [
    "In this example we create a certain number of random samples with random intensities inside a certain [Interval](http://javadoc.imagej.net/ImgLib2/net/imglib2/Interval.html). Using nearest neighbor interpolation we wrap it into a [RealRandomAccessible](http://javadoc.imagej.net/ImgLib2/net/imglib2/RealRandomAccessible.html), wrap it again into a [RandomAccessible](http://javadoc.imagej.net/ImgLib2/net/imglib2/RandomAccessible.html), define an [Interval](http://javadoc.imagej.net/ImgLib2/net/imglib2/Interval.html) on it and display it. On the same virtual data we perform a Gaussian convolution and show it, too."
   ]
  },
  {
   "cell_type": "markdown",
   "metadata": {},
   "source": [
    "## Bootstrap ImageJ"
   ]
  },
  {
   "cell_type": "code",
   "execution_count": null,
   "metadata": {},
   "outputs": [],
   "source": [
    "// Behind a firewall? Configure your proxy settings here.\n",
    "//systemProperties = System.getProperties()\n",
    "//systemProperties.setProperty(\"http.proxyHost\",\"myproxy.domain\")\n",
    "//systemProperties.setProperty(\"http.proxyPort\",\"8080\")\n",
    "\n",
    "//////////////////////////////////////////////////////////////\n",
    "// Load ImageJ. This may take some minutes the first time   //\n",
    "// while ImageJ is installed into ~/.groovy/grapes locally. //\n",
    "//////////////////////////////////////////////////////////////\n",
    "@GrabResolver(name='imagej', root='http://maven.imagej.net/content/groups/public/')\n",
    "@Grab('net.imagej:imagej:2.0.0-rc-58')\n",
    "import net.imagej.ImageJ\n",
    "ij = new ImageJ()\n",
    "println(\"ImageJ is ready to go.\")"
   ]
  },
  {
   "cell_type": "markdown",
   "metadata": {},
   "source": [
    "Below is the utility method for a given interval magnification."
   ]
  },
  {
   "cell_type": "code",
   "execution_count": null,
   "metadata": {},
   "outputs": [],
   "source": [
    "import net.imglib2.RealInterval\n",
    "import net.imglib2.RealPointSampleList\n",
    "import net.imglib2.type.numeric.real.FloatType\n",
    "import net.imglib2.RealPoint\n",
    "\n",
    "obj = new Object() {\n",
    "  /**\n",
    "   * Create a number of n-dimensional random points in a certain interval\n",
    "   * having a random intensity 0...1\n",
    "   *\n",
    "   * @param interval - the interval in which points are created\n",
    "   * @param numPoints - the amount of points\n",
    "   *\n",
    "   * @return a RealPointSampleList (which is an IterableRealInterval)\n",
    "   */\n",
    "  public RealPointSampleList<FloatType> createRandomPoints(RealInterval interval, int numPoints) {\n",
    "    // the number of dimensions\n",
    "    numDimensions = interval.numDimensions()\n",
    "    \n",
    "    // a random number generator\n",
    "    Random rnd = new Random(System.currentTimeMillis())\n",
    "    \n",
    "    // a list of Samples with coordinates\n",
    "    RealPointSampleList<FloatType> elements = new RealPointSampleList<FloatType>(numDimensions)\n",
    "    \n",
    "    for (int i = 0; i < numPoints; ++i) {\n",
    "      RealPoint point = new RealPoint(numDimensions)\n",
    "      \n",
    "      for (int d = 0; d < numDimensions; ++d) {\n",
    "        point.setPosition( rnd.nextDouble() * (interval.realMax(d) - interval.realMin(d)) + interval.realMin(d), d )\n",
    "        \n",
    "        // add a new element with a random intensity in the range 0...1\n",
    "        elements.add(point, new FloatType(rnd.nextFloat()))\n",
    "      }\n",
    "    }\n",
    "    return elements\n",
    "  }\n",
    "}"
   ]
  },
  {
   "cell_type": "markdown",
   "metadata": {},
   "source": [
    "At first it shows nearest-neighbor rendered random sparse data."
   ]
  },
  {
   "cell_type": "code",
   "execution_count": null,
   "metadata": {},
   "outputs": [],
   "source": [
    "import net.imglib2.FinalInterval\n",
    "import net.imglib2.IterableRealInterval\n",
    "import net.imglib2.type.numeric.real.FloatType\n",
    "import net.imglib2.neighborsearch.NearestNeighborSearch\n",
    "import net.imglib2.neighborsearch.NearestNeighborSearchOnKDTree\n",
    "import net.imglib2.KDTree\n",
    "import net.imglib2.interpolation.neighborsearch.NearestNeighborSearchInterpolatorFactory\n",
    "import net.imglib2.view.Views\n",
    "\n",
    "long[] range = [375, 200]\n",
    "// the interval in which to create random points\n",
    "interval = new FinalInterval(range)\n",
    "\n",
    "// create an IterableRealInterval\n",
    " IterableRealInterval<FloatType> realInterval = obj.createRandomPoints(interval, 250)\n",
    "\n",
    "// using nearest neighbor search we will be able to return a value an any position in space\n",
    "search = new NearestNeighborSearchOnKDTree<FloatType>(new KDTree<FloatType>(realInterval))\n",
    "\n",
    "// make it into RealRandomAccessible using nearest neighbor search\n",
    "realRandomAccessible = Views.interpolate(search, new NearestNeighborSearchInterpolatorFactory<FloatType>())\n",
    "\n",
    "// convert it into a RandomAccessible which can be displayed\n",
    "randomAccessible = Views.raster(realRandomAccessible)\n",
    "\n",
    "// set the initial interval as area to view\n",
    "view = Views.interval(randomAccessible, interval)\n",
    "\n",
    "// display the view\n",
    "ij.notebook().display(view, 0.0, 1.0)"
   ]
  },
  {
   "cell_type": "markdown",
   "metadata": {},
   "source": [
    "At second it shows the result of a Gaussian convolution, run directly on the virtual [RandomAccessibleInterval](http://javadoc.imagej.net/ImgLib2/net/imglib2/RandomAccessibleInterval.html)."
   ]
  },
  {
   "cell_type": "code",
   "execution_count": null,
   "metadata": {},
   "outputs": [],
   "source": [
    "import net.imglib2.img.array.ArrayImgFactory\n",
    "import net.imglib2.type.numeric.real.FloatType\n",
    "import net.imglib2.algorithm.gauss.Gauss\n",
    "import net.imglib2.Point\n",
    "\n",
    "// compute a gauss on it\n",
    "convolved = new ArrayImgFactory<FloatType>().create(interval, new FloatType())\n",
    "\n",
    "double[] size = [3, 3]\n",
    "\n",
    "Gauss.inFloat(size, view, interval, convolved, new Point(view.numDimensions() ), convolved.factory())\n",
    "\n",
    "// display the convolved view\n",
    "ij.notebook().display(convolved, 0.0, 1.0)"
   ]
  }
 ],
 "metadata": {
  "kernelspec": {
   "display_name": "Groovy",
   "language": "groovy",
   "name": "groovy"
  }
 },
 "nbformat": 4,
 "nbformat_minor": 2
}
