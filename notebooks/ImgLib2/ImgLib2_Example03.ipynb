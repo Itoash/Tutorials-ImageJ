{
 "cells": [
  {
   "cell_type": "markdown",
   "metadata": {},
   "source": [
    "# ImgLib2 \n",
    "\n",
    "Example 03: Writing generic algorithms"
   ]
  },
  {
   "cell_type": "markdown",
   "metadata": {},
   "source": [
    "**Imglib2 Examples 01 and 02** tried to introduce important tools you need in order to implement algorithms with ImgLib2. This example will show three generic implementations of algorithms computing the min/max, average, as well as the center of mass.\n",
    "\n",
    "The core idea is to implement algorithms as generic as possible in order to maximize code-*reusability.* In general, a good way to start is to think: What are the minimal requirements in order to implement algorithm X? This applies to all of the following three concepts:\n",
    "\n",
    "* **Type**: You should always use the most abstract [Type](http://javadoc.imagej.net/ImgLib2/net/imglib2/type/Type.html) possible, i.e. the one that just offers enough operations to perform your goal. In this way, the algorithm will be able to run on [Type](http://javadoc.imagej.net/ImgLib2/net/imglib2/type/Type.html)s you might not even have thought about when implementing it. A good example is the min&max search in example 3a. Instead of implementing it for [FloatType](http://javadoc.imagej.net/ImgLib2/net/imglib2/type/numeric/real/FloatType.html) or the more abstract [RealType](http://javadoc.imagej.net/ImgLib2/net/imglib2/type/numeric/RealType.html), we implement it for the even more abstract [Comparable](https://docs.oracle.com/javase/7/docs/api/java/lang/Comparable.html) & [Type](http://javadoc.imagej.net/ImgLib2/net/imglib2/type/Type.html).\n",
    "* **Image data**: Every algorithm should only demand those interfaces that it requires, not specific implementations of it like [Img](http://javadoc.imagej.net/ImgLib2/net/imglib2/img/Img.html). You might require [RandomAccessible](http://javadoc.imagej.net/ImgLib2/net/imglib2/RandomAccessible.html) (infinite), [RandomAccessibleInterval](http://javadoc.imagej.net/ImgLib2/net/imglib2/RandomAccessibleInterval.html) (finite), [Iterable](http://javadoc.imagej.net/Java/java/lang/Iterable.html?is-external=true) (values without location), [IterableInterval](http://javadoc.imagej.net/ImgLib2/net/imglib2/IterableInterval.html) (values and their location) or their corresponding interfaces for real-valued locations [RealRandomAccessible](http://javadoc.imagej.net/ImgLib2/net/imglib2/RealRandomAccessible.html), [RealRandomAccessibleRealInterval](http://javadoc.imagej.net/ImgLib2/net/imglib2/RealRandomAccessibleRealInterval.html) and [IterableRealInterval](http://javadoc.imagej.net/ImgLib2/net/imglib2/IterableRealInterval.html). Note that you can concatenate them if you need more than one property.\n",
    "* **Dimensionality**: Usually there is no reason to restrict an algorithm to a certain dimensionality (like only for two-dimensional images), at least we could not really come up with a convincing example. *If the application or plugin you are developing addresses a certain dimensionality (e.g. stitching of panorama photos) it is understandable that you do not want to implement everything n-dimensionally. But try to implement as many as possible of the smaller algorithm you are using as generic, n-dimensional methods. For example, everything that requires only to **iterate** the data is usually inherently n-dimensional.*\n",
    "\n",
    "Following those ideas, your newly-implemented algorithm will be applicable to any kind of data and dimensionality it is defined for, not only a very small domain you are currently working with. Also note that quite often this actually makes the implementation simpler."
   ]
  },
  {
   "cell_type": "code",
   "execution_count": null,
   "metadata": {},
   "outputs": [],
   "source": [
    "// Behind a firewall? Configure your proxy settings here.\n",
    "//systemProperties = System.getProperties()\n",
    "//systemProperties.setProperty(\"http.proxyHost\",\"myproxy.domain\")\n",
    "//systemProperties.setProperty(\"http.proxyPort\",\"8080\")\n",
    "\n",
    "//////////////////////////////////////////////////////////////\n",
    "// Load ImageJ. This may take some minutes the first time   //\n",
    "// while ImageJ is installed into ~/.groovy/grapes locally. //\n",
    "//////////////////////////////////////////////////////////////\n",
    "@GrabResolver(name='imagej', root='http://maven.imagej.net/content/groups/public/')\n",
    "@Grab('net.imagej:imagej:2.0.0-rc-58')\n",
    "import net.imagej.ImageJ\n",
    "ij = new ImageJ()\n",
    "println(\"ImageJ is ready to go.\")"
   ]
  },
  {
   "cell_type": "markdown",
   "metadata": {},
   "source": [
    "## Min/Max search"
   ]
  },
  {
   "cell_type": "markdown",
   "metadata": {},
   "source": [
    "Searching for the minimal and maximal value in a dataset is a very nice example to illustrate generic algorithms. In order to find min/max values, [Type](http://javadoc.imagej.net/ImgLib2/net/imglib2/type/Type.html)s only need to be able to compare themselves. Therefore we do not need any numeric values, we only require them to implement the (Java) interface [Comparable](https://docs.oracle.com/javase/7/docs/api/java/lang/Comparable.html). Additionally, no random access to the data is required, we simply need to iterate all pixels, also their location is irrelevant. The image data we need only needs to be [Iterable](http://javadoc.imagej.net/Java/java/lang/Iterable.html?is-external=true).\n",
    "\n",
    "Below we show **three** small variations of the min/max search. \n",
    "* First, in Example 3a, we show the implementation as described above. \n",
    "* Second, in Example 3b, we illustrate that this also works on a standard Java ArrayList. \n",
    "* Third, in Example 3c, we show how the implementation changes if we do not only want the min/max value, but also their location. This requires to use [IterableInterval](http://javadoc.imagej.net/ImgLib2/net/imglib2/IterableInterval.html) instead, as [Cursor](http://javadoc.imagej.net/ImgLib2/net/imglib2/Cursor.html) can return their location."
   ]
  },
  {
   "cell_type": "markdown",
   "metadata": {},
   "source": [
    "### Example 3a"
   ]
  },
  {
   "cell_type": "code",
   "execution_count": null,
   "metadata": {},
   "outputs": [],
   "source": [
    "import net.imglib2.type.Type\n",
    "\n",
    "construct01 = new Object() {   \n",
    "  /**\n",
    "   * Compute the min and max for any {@link Iterable}, like an {@link Img}.\n",
    "   *\n",
    "   * The only functionality we need for that is to iterate. Therefore we need no {@link Cursor}\n",
    "   * that can localize itself, neither do we need a {@link RandomAccess}. So we simply use the\n",
    "   * most simple interface in the hierarchy.\n",
    "   *\n",
    "   * @param input - the input that has to just be {@link Iterable}\n",
    "   * @param min - the type that will have min\n",
    "   * @param max - the type that will have max\n",
    "   */\n",
    "  public <T extends Comparable< T> & Type<T>> void computeMinMax(Iterable<T> input, T min, T max) {\n",
    "    // create a cursor for the image (the order does not matter)\n",
    "    Iterator<T> iterator = input.iterator()\n",
    "    \n",
    "    // initialize min and max with the first image value\n",
    "    T type = iterator.next()\n",
    "    \n",
    "    min.set(type)\n",
    "    max.set(type)\n",
    "    \n",
    "    // loop over the rest of the data and determine min and max value\n",
    "    while (iterator.hasNext()) {\n",
    "      // we need this type more than once\n",
    "      type = iterator.next()\n",
    "      \n",
    "      if (type.compareTo(min) < 0) {\n",
    "        min.set( type )\n",
    "      }\n",
    "      \n",
    "      if (type.compareTo(max) > 0) {\n",
    "        max.set(type);\n",
    "      }\n",
    "    }\n",
    "  }\n",
    "}"
   ]
  },
  {
   "cell_type": "code",
   "execution_count": null,
   "metadata": {},
   "outputs": [],
   "source": [
    "import io.scif.img.ImgOpener\n",
    "import net.imglib2.type.numeric.real.FloatType\n",
    "\n",
    "/**\n",
    " * Perform a generic min & max search\n",
    " *\n",
    " * @author Stephan Preibisch & Stephan Saalfeld\n",
    " *\n",
    " */\n",
    "\n",
    "// open with ImgOpener\n",
    "img = new ImgOpener().openImgs(\"http://samples.fiji.sc/tutorials/DrosophilaWing.tif\", new FloatType()).get(0)\n",
    "\n",
    "// create two empty variables\n",
    "min = img.firstElement().createVariable()\n",
    "max = img.firstElement().createVariable()\n",
    "\n",
    "// compute min and max of the Image\n",
    "construct01.computeMinMax(img, min, max)\n",
    "\n",
    "System.out.println(\"minimum Value (img): \" + min)\n",
    "System.out.println(\"maximum Value (img): \" + max)"
   ]
  },
  {
   "cell_type": "markdown",
   "metadata": {},
   "source": [
    "### Example 3b"
   ]
  },
  {
   "cell_type": "markdown",
   "metadata": {},
   "source": [
    "Note that this example works just the same way if the input is not an [Img](http://javadoc.imagej.net/ImgLib2/net/imglib2/img/Img.html), but for example just a standard Java [ArrayList](https://docs.oracle.com/javase/7/docs/api/java/util/ArrayList.html)."
   ]
  },
  {
   "cell_type": "code",
   "execution_count": null,
   "metadata": {},
   "outputs": [],
   "source": [
    "import java.util.ArrayList\n",
    "import net.imglib2.type.numeric.real.FloatType\n",
    " \n",
    "/**\n",
    " * Perform a generic min & max search\n",
    " *\n",
    " * @author Stephan Preibisch & Stephan Saalfeld\n",
    " *\n",
    " */\n",
    "\n",
    "// it will work as well on a normal ArrayList\n",
    "ArrayList<FloatType> list = new ArrayList<FloatType>()\n",
    "\n",
    "// put values 0 to 10 into the ArrayList\n",
    "for (int i = 0; i <= 10; ++i) {\n",
    "  list.add(new FloatType(i))\n",
    "}\n",
    "\n",
    "// create two empty variables\n",
    "min = new FloatType()\n",
    "max = new FloatType()\n",
    " \n",
    "// compute min and max of the ArrayList\n",
    "construct01.computeMinMax(list, min, max)\n",
    "\n",
    "System.out.println(\"minimum Value (arraylist): \" + min)\n",
    "System.out.println(\"maximum Value (arraylist): \" + max)"
   ]
  },
  {
   "cell_type": "markdown",
   "metadata": {},
   "source": [
    "### Example 3c"
   ]
  },
  {
   "cell_type": "markdown",
   "metadata": {},
   "source": [
    "If we want to compute the location of the minimal and maximal pixel value, an [Iterator](http://javadoc.imagej.net/ImgLib2/net/imglib2/Iterator.html) will not be sufficient as we need location information. Instead, the location search will demand an [IterableInterval](http://javadoc.imagej.net/ImgLib2/net/imglib2/IterableInterval.html) as input data which can create [Cursor](http://javadoc.imagej.net/ImgLib2/net/imglib2/Cursor.html)s. Apart from that, the algorithm looks quite similar. Note that we do not use a **LocalizingCursor** but only a [Cursor](http://javadoc.imagej.net/ImgLib2/net/imglib2/Cursor.html); the location happens only when a new maximal or minimal value has been found while iterating the data."
   ]
  },
  {
   "cell_type": "code",
   "execution_count": null,
   "metadata": {},
   "outputs": [],
   "source": [
    "import net.imglib2.type.Type\n",
    "import net.imglib2.IterableInterval\n",
    "import net.imglib2.Point\n",
    "import net.imglib2.Cursor\n",
    " \n",
    "/**\n",
    " * Perform a generic min/max search.\n",
    " *\n",
    " * @author Stephan Preibisch & Stephan Saalfeld\n",
    " *\n",
    " */\n",
    "construct02 = new Object() {\n",
    "  /**\n",
    "   * Compute the location of the minimal and maximal intensity for any IterableInterval,\n",
    "   * like an {@link Img}.\n",
    "   *\n",
    "   * The functionality we need is to iterate and retrieve the location. Therefore we need a\n",
    "   * Cursor that can localize itself.\n",
    "   * Note that we do not use a LocalizingCursor as localization just happens from time to time.\n",
    "   *\n",
    "   * @param input - the input that has to just be {@link IterableInterval}\n",
    "   * @param minLocation - the location for the minimal value\n",
    "   * @param maxLocation - the location of the maximal value\n",
    "   */\n",
    "  public <T extends Comparable<T> & Type<T>> void computeMinMaxLocation(IterableInterval<T> input, Point minLocation, Point maxLocation) {\n",
    "    // create a cursor for the image (the order does not matter)\n",
    "    final Cursor<T> cursor = input.cursor()\n",
    "    \n",
    "    // initialize min and max with the first image value\n",
    "    T type = cursor.next()\n",
    "    T min = type.copy()\n",
    "    T max = type.copy()\n",
    "    \n",
    "    // loop over the rest of the data and determine min and max value\n",
    "    while (cursor.hasNext()) {\n",
    "      // we need this type more than once\n",
    "      type = cursor.next()\n",
    "      \n",
    "      if (type.compareTo(min) < 0) {\n",
    "        min.set(type)\n",
    "        minLocation.setPosition(cursor)\n",
    "      }\n",
    "      \n",
    "      if (type.compareTo(max) > 0) {\n",
    "        max.set(type)\n",
    "        maxLocation.setPosition(cursor)\n",
    "      }\n",
    "    }\n",
    "  }\n",
    "}"
   ]
  },
  {
   "cell_type": "code",
   "execution_count": null,
   "metadata": {},
   "outputs": [],
   "source": [
    "import io.scif.img.ImgOpener\n",
    "import net.imglib2.type.numeric.real.FloatType\n",
    "import net.imglib2.Point\n",
    "\n",
    "// open with ImgOpener\n",
    "img = new ImgOpener().openImgs(\"http://samples.fiji.sc/tutorials/DrosophilaWing.tif\", new FloatType()).get(0)\n",
    " \n",
    " // create two location objects\n",
    " locationMin = new Point(img.numDimensions())\n",
    " locationMax = new Point(img.numDimensions())\n",
    " \n",
    " // compute location of min and max\n",
    " construct02.computeMinMaxLocation(img, locationMin, locationMax)\n",
    " \n",
    " System.out.println(\"location of minimum Value (img): \" + locationMin)\n",
    " System.out.println(\"location of maximum Value (img): \" + locationMax)"
   ]
  },
  {
   "cell_type": "markdown",
   "metadata": {},
   "source": [
    "## Computing average"
   ]
  },
  {
   "cell_type": "markdown",
   "metadata": {},
   "source": [
    "In a very similar way, one can compute the average intensity for image data. Note that we restrict the [Type](http://javadoc.imagej.net/ImgLib2/net/imglib2/type/Type.html) of data to [RealType](http://javadoc.imagej.net/ImgLib2/net/imglib2/type/numeric/RealType.html). In theory, we could use [NumericType](http://javadoc.imagej.net/ImgLib2/net/imglib2/type/numeric/NumericType.html) as it offers the possibility to add up values. However, we cannot ensure that [NumericType](http://javadoc.imagej.net/ImgLib2/net/imglib2/type/numeric/NumericType.html) provided is capable of adding up millions of pixels without overflow. And even if we would ask for a second [NumericType](http://javadoc.imagej.net/ImgLib2/net/imglib2/type/numeric/NumericType.html) that is capable of adding values up, it might still have numerical instabilities. Note that actually every Java native type has those instabilities. Therefore we use the [RealSum](http://javadoc.imagej.net/ImgLib2/net/imglib2/util/RealSum.html) class that offers correct addition of even very large amounts of pixels. As this implementation is only available for double values, we restrict the method here to [RealType](http://javadoc.imagej.net/ImgLib2/net/imglib2/type/numeric/RealType.html)."
   ]
  },
  {
   "cell_type": "code",
   "execution_count": null,
   "metadata": {},
   "outputs": [],
   "source": [
    "import net.imglib2.type.numeric.RealType\n",
    "import net.imglib2.util.RealSum\n",
    " \n",
    "/**\n",
    " * Perform a generic computation of average intensity\n",
    " *\n",
    " * @author Stephan Preibisch & Stephan Saalfeld\n",
    " *\n",
    " */\n",
    "construct03 = new Object() {\n",
    "  /**\n",
    "   * Compute the average intensity for an {@link Iterable}.\n",
    "   *\n",
    "   * @param input - the input data\n",
    "   * @return - the average as double\n",
    "   */\n",
    "  public <T extends RealType<T>> double computeAverage(Iterable<T> input) {\n",
    "    // Count all values using the RealSum class.\n",
    "    // It prevents numerical instabilities when adding up millions of pixels\n",
    "    realSum = new RealSum()\n",
    "    count = 0\n",
    "    \n",
    "    for (T type : input) {\n",
    "      realSum.add(type.getRealDouble())\n",
    "      ++count;\n",
    "    }\n",
    "    \n",
    "    return realSum.getSum() / count\n",
    "  }\n",
    "}"
   ]
  },
  {
   "cell_type": "code",
   "execution_count": null,
   "metadata": {},
   "outputs": [],
   "source": [
    "import io.scif.img.ImgOpener\n",
    "import net.imglib2.type.numeric.real.FloatType\n",
    "\n",
    "// open with ImgOpener\n",
    "img = new ImgOpener().openImgs(\"http://samples.fiji.sc/tutorials/DrosophilaWing.tif\", new FloatType()).get(0)\n",
    " \n",
    "// compute average of the image\n",
    "avg = construct03.computeAverage(img)\n",
    "System.out.println(\"average Value: \" + avg)"
   ]
  }
 ],
 "metadata": {
  "kernelspec": {
   "display_name": "Groovy",
   "language": "groovy",
   "name": "groovy"
  }
 },
 "nbformat": 4,
 "nbformat_minor": 2
}
