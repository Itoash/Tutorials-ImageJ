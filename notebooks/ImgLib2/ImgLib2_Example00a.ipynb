{
 "cells": [
  {
   "cell_type": "markdown",
   "metadata": {},
   "source": [
    "# ImgLib2: Create, Open, & Display an Image"
   ]
  },
  {
   "cell_type": "code",
   "execution_count": null,
   "metadata": {},
   "outputs": [],
   "source": [
    "// Behind a firewall? Configure your proxy settings here.\n",
    "//systemProperties = System.getProperties()\n",
    "//systemProperties.setProperty(\"http.proxyHost\",\"myproxy.domain\")\n",
    "//systemProperties.setProperty(\"http.proxyPort\",\"8080\")\n",
    "\n",
    "//////////////////////////////////////////////////////////////\n",
    "// Load ImageJ. This may take some minutes the first time   //\n",
    "// while ImageJ is installed into ~/.groovy/grapes locally. //\n",
    "//////////////////////////////////////////////////////////////\n",
    "@GrabResolver(name='imagej', root='http://maven.imagej.net/content/groups/public/')\n",
    "@Grab('net.imagej:imagej:2.0.0-rc-58')\n",
    "import net.imagej.ImageJ\n",
    "ij = new ImageJ()\n",
    "println(\"ImageJ is ready to go.\")"
   ]
  },
  {
   "cell_type": "markdown",
   "metadata": {},
   "source": [
    "## Creating and Displaying an Image"
   ]
  },
  {
   "cell_type": "markdown",
   "metadata": {},
   "source": [
    "The following piece of code creates and displays an 400x320 8-bit gray-level image:"
   ]
  },
  {
   "cell_type": "code",
   "execution_count": null,
   "metadata": {},
   "outputs": [],
   "source": [
    "import net.imglib2.img.Img\n",
    "import net.imglib2.img.array.ArrayImgFactory\n",
    "import net.imglib2.type.numeric.integer.UnsignedByteType\n",
    " \n",
    "// will create a window showing a black 400x320 image\n",
    "long[] dimensions = [400, 320]\n",
    "final Img< UnsignedByteType > img = new ArrayImgFactory< UnsignedByteType >().create( dimensions, new UnsignedByteType() )\n",
    "// show image\n",
    "ij.notebook().display( img )\n"
   ]
  },
  {
   "cell_type": "markdown",
   "metadata": {},
   "source": [
    "Breaking _lines 6-9_ into individual steps...\n",
    "\n",
    "1 <code>final ImgFactory< UnsignedByteType > factory = new ArrayImgFactory< UnsignedByteType >();</code>\n",
    "\n",
    "2 <code>final long[] dimensions = new long[] { 400, 320 };</code>\n",
    "\n",
    "3 <code>final UnsignedByteType type = new UnsignedByteType();</code>\n",
    "\n",
    "4 <code>final Img< UnsignedByteType > img = factory.create( dimensions, type );</code>\n"
   ]
  },
  {
   "cell_type": "markdown",
   "metadata": {},
   "source": [
    "_Line 1:_ \n",
    "Pixel images in ImgLib2 are created using an [ImgFactory](http://javadoc.imagej.net/ImgLib2/net/imglib2/img/ImgFactory.html). There are different ImgFactories, that create pixel containers with different memory layouts. Here, we create an [ArrayImgFactory](http://javadoc.imagej.net/ImgLib2/net/imglib2/img/array/ArrayImgFactory.html). This factory creates containers that map to a single flat Java array.\n",
    "\n",
    "The type parameter of the factory that specifies the value type of the image we want to create. We want to create a 8-bit gray-level image, thus we use [UnsignedByteType](http://javadoc.imagej.net/ImgLib2/net/imglib2/type/numeric/integer/UnsignedByteType.html).\n",
    "\n",
    "_Line 2:_\n",
    "Next we create a **long[]** array that specifies the image size in every dimension. The length of the array specifies the number of dimensions. Here, we state that we want to create 400x320 2D image.\n",
    "\n",
    "_Line 3:_\n",
    "We need to provide a type variable, that is a variable having the type that is to be stored in the image. This must match the generic type parameter of the [ImgFactory](http://javadoc.imagej.net/ImgLib2/net/imglib2/img/ImgFactory.html). Thus we create an [UnsignedByteType](http://javadoc.imagej.net/ImgLib2/net/imglib2/type/numeric/integer/UnsignedByteType.html).  \n",
    "\n",
    "_Line 4:_\n",
    "We create the image, using the factory, dimensions, and type variable.  We store the result of the **create()** method in an [Img](http://javadoc.imagej.net/ImgLib2/net/imglib2/img/Img.html) variable. [Img](http://javadoc.imagej.net/ImgLib2/net/imglib2/img/Img.html) is a convenience interface that gathers properties of pixel image containers such as having a number of dimensions, being able to iterate it's pixels, etc."
   ]
  },
  {
   "cell_type": "markdown",
   "metadata": {},
   "source": [
    "## Opening and Displaying Image Files"
   ]
  },
  {
   "cell_type": "markdown",
   "metadata": {},
   "source": [
    "You can open image files with [ImgOpener](http://javadoc.imagej.net/SCIFIO/io/scif/img/ImgOpener.html) which is using [Bio-Formats](http://www.openmicroscopy.org/site/support/bio-formats5.1/). The following opens and displays an image file."
   ]
  },
  {
   "cell_type": "code",
   "execution_count": null,
   "metadata": {},
   "outputs": [],
   "source": [
    "import net.imglib2.img.Img\n",
    "import net.imglib2.img.array.ArrayImgFactory\n",
    "import net.imglib2.type.numeric.integer.UnsignedByteType\n",
    "//import net.imglib2.img.display.imagej.ImageJFunctions\n",
    "import io.scif.img.ImgIOException\n",
    "import io.scif.img.ImgOpener\n",
    "import net.imagej.ImageJ\n",
    "\n",
    "// create an ImageJ gateway\n",
    "ij = new ImageJ()\n",
    "\n",
    "// save path for an image of Lena\n",
    "path = \"http://wsr.imagej.net/images/lena.jpg\"\n",
    "\n",
    "// load image\n",
    "final Img< UnsignedByteType > img = new ImgOpener().openImg( path, new ArrayImgFactory< UnsignedByteType >(), new UnsignedByteType() );\n",
    "\n",
    "// display the image\n",
    "ij.notebook().display(img)"
   ]
  },
  {
   "cell_type": "markdown",
   "metadata": {},
   "source": [
    "Again, breaking _lines 12-13_ into individual steps...\n",
    "\n",
    "1 <code> final ImgOpener opener = new ImgOpener();</code>\n",
    "\n",
    "2 <code> final ImgFactory< UnsignedByteType > factory = new ArrayImgFactory< UnsignedByteType >();</code>\n",
    "\n",
    "3 <code> final UnsignedByteType type = new UnsignedByteType();</code>\n",
    "\n",
    "4 <code> final Img< UnsignedByteType > img = opener.openImg( path, factory, type );</code>\n"
   ]
  },
  {
   "cell_type": "markdown",
   "metadata": {},
   "source": [
    "_Line 1:_\n",
    "When opening an image, we can specify which memory layout to use and as which value type we want to load the image. We want to use the [ArrayImg](http://javadoc.imagej.net/ImgLib2/net/imglib2/img/array/ArrayImg.html) layout again, and we want to have [UnsignedByteType](http://javadoc.imagej.net/ImgLib2/net/imglib2/type/numeric/integer/UnsignedByteType.html) values again. We need an [ImgFactory](http://javadoc.imagej.net/ImgLib2/net/imglib2/img/ImgFactory.html) and an instance of the value type.\n",
    "\n",
    "_Line 4:_\n",
    "We can use the **openImg()** method, giving a filename, [ImgFactory](http://javadoc.imagej.net/ImgLib2/net/imglib2/img/ImgFactory.html), and type instance."
   ]
  },
  {
   "cell_type": "markdown",
   "metadata": {},
   "source": [
    "> _NOTE:_\n",
    "\n",
    "> Note that [Img](http://javadoc.imagej.net/ImgLib2/net/imglib2/img/Img.html) is just convenience interface. When you get more proficient with ImgLib2 you will find yourself using it less and less. You will either be more concrete or more general than that. In the above example, we could be more concrete -- the result of the **ArrayImgFactory< UnsignedByteType >.create()** is actually an **ArrayImg< UnsignedByteType, ByteArray >**. In algorithm implementations, you want to be as generic as possible to not constrain yourself to specific image types. You will specify only the super-interfaces of [Img](http://javadoc.imagej.net/ImgLib2/net/imglib2/img/Img.html) that you really need. For instance, if you need something which has boundaries and can be iterated you would use [IterableInterval](http://javadoc.imagej.net/ImgLib2/net/imglib2/IterableInterval.html).\n"
   ]
  }
 ],
 "metadata": {
  "kernelspec": {
   "display_name": "Groovy",
   "language": "groovy",
   "name": "groovy"
  }
 },
 "nbformat": 4,
 "nbformat_minor": 2
}
