{
 "cells": [
  {
   "cell_type": "markdown",
   "metadata": {},
   "source": [
    "# ImgLib2 \n",
    "\n",
    "Example 01: Opening, creating and displaying images"
   ]
  },
  {
   "cell_type": "markdown",
   "metadata": {},
   "source": [
    "Let's get started with ImgLib2 by opening, creating, and displaying images.  You can see these same tutorials on the ImageJ Wiki [here](http://imagej.net/ImgLib2_Examples)."
   ]
  },
  {
   "cell_type": "code",
   "execution_count": null,
   "metadata": {},
   "outputs": [],
   "source": [
    "// Behind a firewall? Configure your proxy settings here.\n",
    "//systemProperties = System.getProperties()\n",
    "//systemProperties.setProperty(\"http.proxyHost\",\"myproxy.domain\")\n",
    "//systemProperties.setProperty(\"http.proxyPort\",\"8080\")\n",
    "\n",
    "//////////////////////////////////////////////////////////////\n",
    "// Load ImageJ. This may take some minutes the first time   //\n",
    "// while ImageJ is installed into ~/.groovy/grapes locally. //\n",
    "//////////////////////////////////////////////////////////////\n",
    "@GrabResolver(name='imagej', root='http://maven.imagej.net/content/groups/public/')\n",
    "@Grab('net.imagej:imagej:2.0.0-rc-58')\n",
    "import net.imagej.ImageJ\n",
    "ij = new ImageJ()\n",
    "println(\"ImageJ is ready to go.\")"
   ]
  },
  {
   "cell_type": "markdown",
   "metadata": {},
   "source": [
    "## Opening an ImgLib2 image"
   ]
  },
  {
   "cell_type": "markdown",
   "metadata": {},
   "source": [
    "The typical way to open an image in ImgLib2 is to make use of the [SCIFIO](http://scif.io/) importer. Below you see two examples of how to open an image as (_a_) its own type (e.g. **UnsignedByteType**) and (_b_) as float (**FloatType**). For (_a_) we assume, however, that the file contains some real valued numbers as defined by the interface **RealType**. Color images are opened as well and color is represented as its own dimension (like in the ImageJ Hyperstacks).\n",
    "\n",
    "Important: it does not matter which type of Img you use to hold the data as we will use [Iterator](http://javadoc.imagej.net/ImgLib2/net/imglib2/Iterator.html)s and [RandomAccess](http://javadoc.imagej.net/ImgLib2/net/imglib2/RandomAccess.html)es to access the image content. It might be, however, important if you work on two Img at the same time using [Iterator](http://javadoc.imagej.net/ImgLib2/net/imglib2/Iterator.html)s, see Example2."
   ]
  },
  {
   "cell_type": "markdown",
   "metadata": {},
   "source": [
    "In the following example,  (_a_), we use an [ArrayImg](http://javadoc.imagej.net/ImgLib2/net/imglib2/img/array/ArrayImg.html) to hold the data. This means the data is held in one single java basic type array which results in optimal performance. The absolute size of image is, however, limited to 2^31-1 (~2 billion) pixels. The type of [Img](http://javadoc.imagej.net/ImgLib2/net/imglib2/img/Img.html) to use is set by passing an **ImgOptions** configuration when calling the **ImgOpener**."
   ]
  },
  {
   "cell_type": "code",
   "execution_count": null,
   "metadata": {},
   "outputs": [],
   "source": [
    "import io.scif.img.ImgOpener\n",
    "\n",
    "// define the file to open\n",
    "path = \"http://samples.fiji.sc/tutorials/DrosophilaWing.tif\"\n",
    " \n",
    "// create the ImgOpener. The type (e.g. ArrayImg, PlanarImg, CellImg) is\n",
    "// automatically determined. For a small image that fits in memory, this\n",
    "// should open as an ArrayImg.\n",
    "imgOpener = new ImgOpener()\n",
    " \n",
    "// open with ImgOpener. \n",
    "image = imgOpener.openImgs(path).get(0)\n",
    " \n",
    "// show image\n",
    "ij.notebook().display( image )"
   ]
  },
  {
   "cell_type": "markdown",
   "metadata": {},
   "source": [
    "In (_b_) just below, we use a [CellImg](http://javadoc.imagej.net/ImgLib2/net/imglib2/img/cell/CellImg.html) instead. It partitions the image data into n-dimensional cells each holding only a part of the data. Further, [SCIFIO](http://scif.io/) takes care of caching cells in and out of memory as needed, greatly reducing the memory requirement to work with very large images.\n",
    "\n",
    "The SCIFIO importer also requires [Type](http://javadoc.imagej.net/ImgLib2/net/imglib2/type/Type.html)s that implement [NativeType](http://javadoc.imagej.net/ImgLib2/net/imglib2/type/NativeType.html), which means it is able to map the data into a Java basic type array. All available [Type](http://javadoc.imagej.net/ImgLib2/net/imglib2/type/Type.html)s until now are implementing [NativeType](http://javadoc.imagej.net/ImgLib2/net/imglib2/type/NativeType.html), if you want to work with some self-developed [Type](http://javadoc.imagej.net/ImgLib2/net/imglib2/type/Type.html) it would be easiest to copy the opened [Img](http://javadoc.imagej.net/ImgLib2/net/imglib2/img/Img.html) afterwards. Please also note that until now, the only [Img](http://javadoc.imagej.net/ImgLib2/net/imglib2/img/Img.html) that supports non-native types is the [ListImg](http://javadoc.imagej.net/ImgLib2/net/imglib2/img/list/ListImg.html) which stores every pixel as an individual object!"
   ]
  },
  {
   "cell_type": "code",
   "execution_count": null,
   "metadata": {},
   "outputs": [],
   "source": [
    "import io.scif.config.SCIFIOConfig\n",
    "import io.scif.config.SCIFIOConfig.ImgMode\n",
    "\n",
    "// create the SCIFIOConfig. This gives us configuration control over how\n",
    "// the ImgOpener will open its datasets.\n",
    "config = new SCIFIOConfig();\n",
    " \n",
    "// If we know what type of Img we want, we can encourage their use through\n",
    "// an SCIFIOConfig instance. CellImgs dynamically load image regions and are\n",
    "// useful when an image won't fit in memory\n",
    "config.imgOpenerSetImgModes( ImgMode.CELL );\n",
    " \n",
    "// open with ImgOpener as a CellImg\n",
    "imageCell = imgOpener.openImg( path, config );\n",
    " \n",
    "// show image\n",
    "ij.notebook().display( imageCell )"
   ]
  },
  {
   "cell_type": "markdown",
   "metadata": {},
   "source": [
    "## Creating a new ImgLib2 image"
   ]
  },
  {
   "cell_type": "markdown",
   "metadata": {},
   "source": [
    "Another important way to instantiate a new ImgLib2 [Img](http://javadoc.imagej.net/ImgLib2/net/imglib2/img/Img.html) is to create a new one from scratch. This requires you to define its [Type](http://javadoc.imagej.net/ImgLib2/net/imglib2/type/Type.html) as well as the [ImgFactory](http://javadoc.imagej.net/ImgLib2/net/imglib2/img/ImgFactory.html) to use. It does additionally need one instance of the [Type](http://javadoc.imagej.net/ImgLib2/net/imglib2/type/Type.html) that it is supposed to hold."
   ]
  },
  {
   "cell_type": "code",
   "execution_count": null,
   "metadata": {},
   "outputs": [],
   "source": [
    "import net.imglib2.img.cell.CellImgFactory\n",
    "import net.imglib2.type.numeric.real.FloatType\n",
    "\n",
    "// create the ImgFactory based on cells (cellsize = 5x5x5...x5) that will\n",
    "// instantiate the Img\n",
    "imgFactory = new CellImgFactory< FloatType >( 5 )\n",
    " \n",
    "// create an 3d-Img with dimensions 20x30x40 (here cellsize is 5x5x5)Ø\n",
    "long[] dimensions = [20, 30, 40]\n",
    "img1 = imgFactory.create( dimensions, new FloatType() )\n",
    " \n",
    "// display img1\n",
    "ij.notebook().display( img1 )"
   ]
  },
  {
   "cell_type": "markdown",
   "metadata": {},
   "source": [
    "Once you have one instance of an [Img](http://javadoc.imagej.net/ImgLib2/net/imglib2/img/Img.html), it is very easy to create another one using the same [Type](http://javadoc.imagej.net/ImgLib2/net/imglib2/type/Type.html) and [ImgFactory](http://javadoc.imagej.net/ImgLib2/net/imglib2/img/ImgFactory.html), even if it has a different size. Note that the call [img.firstElement()](http://javadoc.imagej.net/ImgLib2/net/imglib2/IterableRealInterval.html#firstElement--) returns the first pixel of any [Iterable](http://javadoc.imagej.net/Java/java/lang/Iterable.html?is-external=true), e.g. an [Img](http://javadoc.imagej.net/ImgLib2/net/imglib2/img/Img.html)."
   ]
  },
  {
   "cell_type": "code",
   "execution_count": null,
   "metadata": {},
   "outputs": [],
   "source": [
    "import net.imglib2.img.Img;\n",
    "import net.imglib2.img.ImgFactory;\n",
    "\n",
    "// create another image with the same size\n",
    "// note that the input provides the size for the new image as it implements\n",
    "// the Interval interface\n",
    "img2 = imgFactory.create( img1, img1.firstElement() )\n",
    "\n",
    "// display img2\n",
    "ij.notebook().display( img2 ) "
   ]
  },
  {
   "cell_type": "markdown",
   "metadata": {},
   "source": [
    "## Displaying images partly using Views"
   ]
  },
  {
   "cell_type": "markdown",
   "metadata": {},
   "source": [
    "By using the concept of [Views](http://javadoc.imagej.net/ImgLib2/net/imglib2/view/Views.html) it is possible to display only parts of the image, display a rotated view, and many more cool things. Note that you can also concatenate them. [Views](http://javadoc.imagej.net/ImgLib2/net/imglib2/view/Views.html) are much more powerful than shown in this example, they will be increasingly used throughout the examples.\n",
    "\n",
    "A [View](http://javadoc.imagej.net/ImgLib2/net/imglib2/View.html) almost behaves similar to an [Img](http://javadoc.imagej.net/ImgLib2/net/imglib2/img/Img.html), and in fact they share important concepts. Both are [RandomAccessible](http://javadoc.imagej.net/ImgLib2/net/imglib2/RandomAccessible.html), and [Views](http://javadoc.imagej.net/ImgLib2/net/imglib2/view/Views.html) that are not infinite are also an [Interval](http://javadoc.imagej.net/ImgLib2/net/imglib2/Interval.html) (i.e. those [Views](http://javadoc.imagej.net/ImgLib2/net/imglib2/view/Views.html) have a defined size) and can therefore be made [Iterable](http://javadoc.imagej.net/Java/java/lang/Iterable.html?is-external=true) (see example 2c). In ImgLib2, all algorithms are implemented for abstract concepts like [RandomAccessible](http://javadoc.imagej.net/ImgLib2/net/imglib2/RandomAccessible.html), [Iterable](http://javadoc.imagej.net/Java/java/lang/Iterable.html?is-external=true) or [Interval](http://javadoc.imagej.net/ImgLib2/net/imglib2/Interval.html). This enables us, as can be seen below, to display a [View](http://javadoc.imagej.net/ImgLib2/net/imglib2/View.html) the exact same way we would also display an [Img](http://javadoc.imagej.net/ImgLib2/net/imglib2/img/Img.html)."
   ]
  },
  {
   "cell_type": "code",
   "execution_count": null,
   "metadata": {},
   "outputs": [],
   "source": [
    "import io.scif.img.ImgOpener\n",
    "import net.imglib2.type.numeric.real.FloatType\n",
    "import net.imglib2.view.Views\n",
    "\n",
    "// open file as float with ImgOpener\n",
    "img = new ImgOpener().openImg( \"http://samples.fiji.sc/tutorials/DrosophilaWing.tif\", new FloatType() )\n",
    " \n",
    "// use a View to define an interval (min and max coordinate, inclusive) to display\n",
    "long[] min = [200, 200]\n",
    "long[] max = [500, 350]\n",
    "view = Views.interval( img, min, max)\n",
    " \n",
    "// display only the part of the Img\n",
    "ij.notebook().display( view )"
   ]
  },
  {
   "cell_type": "markdown",
   "metadata": {},
   "source": [
    "Now, we will display the partial image at a 90&deg rotation."
   ]
  },
  {
   "cell_type": "code",
   "execution_count": null,
   "metadata": {},
   "outputs": [],
   "source": [
    "import net.imglib2.view.Views\n",
    "\n",
    "// this is shifting the image so that it is back \n",
    "// in alignment with origin for notebook displaying purposes\n",
    "viewRotated = Views.rotate(view, 0, 1) \n",
    "\n",
    "// display the same area rotated by 90 degrees (x-axis (0) and y-axis (1) switched)\n",
    "ij.notebook().display( viewRotated )"
   ]
  }
 ],
 "metadata": {
  "kernelspec": {
   "display_name": "Groovy",
   "language": "groovy",
   "name": "groovy"
  }
 },
 "nbformat": 4,
 "nbformat_minor": 2
}
