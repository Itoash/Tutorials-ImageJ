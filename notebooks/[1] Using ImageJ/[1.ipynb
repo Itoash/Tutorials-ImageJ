{
 "cells": [
  {
   "cell_type": "markdown",
   "metadata": {},
   "source": [
    "# Introduction to ImageJ Ops\n",
    "\n",
    "[ImageJ Ops](https://imagej.net/ImageJ_Ops) is a library for N-dimensional image processing.\n",
    "\n",
    "The primary design goals of Ops are:\n",
    "\n",
    "1. __Ease of use.__ Ops provides a wealth of easy-to-use image processing operations (\"ops\").\n",
    "2. __Reusability.__ Ops extends Java's mantra of \"[write once, run anywhere](https://en.wikipedia.org/wiki/Write_once,_run_anywhere)\" to image processing algorithms. Algorithms written in the Ops framework are usable as-is from any [SciJava](https://imagej.net/SciJava)-compatible software project, such as [ImageJ](https://imagej.net/ImageJ), [CellProfiler](https://imagej.net/CellProfiler), [KNIME](https://imagej.net/KNIME), [OMERO](https://imagej.net/OMERO) and [Alida](https://imagej.net/Alida).\n",
    "3. __Reproducibility.__ Ops are deterministic: calling the same op twice with the same arguments yields the same result, always. And all ops are versioned.\n",
    "4. __Power.__ An op may consist of any number of typed input and output parameters. Ops may operate on arbitrary data structures, including images of N dimensions stored in a myriad of different ways: as files on disk, programmatically generated in memory, or in remote databases.\n",
    "5. __Extensibility.__ Ops provides a robust framework for writing new ops, and for extending existing ops in new directions. See the \"Extending ImageJ - Ops\" tutorial notebook for details.\n",
    "6. __Speed.__ The Ops framework provides a means to override any general-but-slow op with a faster-but-more-specific alternative, fully transparently to the user.\n",
    "\n",
    "Let's dive in to doing some image processing using ImageJ Ops."
   ]
  },
  {
   "cell_type": "markdown",
   "metadata": {},
   "source": [
    "## Getting started"
   ]
  },
  {
   "cell_type": "code",
   "execution_count": null,
   "metadata": {},
   "outputs": [],
   "source": [
    "// Behind a firewall? Configure your proxy settings here.\n",
    "//System.setProperty(\"http.proxyHost\",\"myproxy.domain\")\n",
    "//System.setProperty(\"http.proxyPort\",\"8080\")\n",
    "\n",
    "//////////////////////////////////////////////////////////////\n",
    "// Load ImageJ. This may take some minutes the first time   //\n",
    "// while ImageJ is installed into ~/.groovy/grapes locally. //\n",
    "//////////////////////////////////////////////////////////////\n",
    "@GrabResolver(name='imagej', root='http://maven.imagej.net/content/groups/public/')\n",
    "@Grab('net.imagej:imagej:2.0.0-rc-58')\n",
    "import net.imagej.ImageJ\n",
    "ij = new ImageJ()\n",
    "\n",
    "// Define some handy shorthands!\n",
    "show = { image ->\n",
    "  ij.notebook().display(image)\n",
    "}\n",
    "import net.imglib2.RandomAccessibleInterval\n",
    "tile = { images ->\n",
    "  int[] gridLayout = images[0] in List ?\n",
    "    [images[0].size, images.size] : // 2D images list\n",
    "    [images.size] // 1D images list\n",
    "  RandomAccessibleInterval[] rais = images.flatten()\n",
    "  mosaic = ij.notebook().mosaic(gridLayout, rais)\n",
    "  ij.notebook().display(mosaic)\n",
    "}\n",
    "\n",
    "println(\"ImageJ is ready to go.\")"
   ]
  },
  {
   "cell_type": "markdown",
   "metadata": {},
   "source": [
    "Let's open up the friendly Clown image to use for our experiments. (For the [coulrophobic](https://en.wikipedia.org/wiki/Coulrophobia), feel free to use the [Fluorescent Cells](http://imagej.net/images/FluorescentCells.jpg) instead.)"
   ]
  },
  {
   "cell_type": "code",
   "execution_count": null,
   "metadata": {},
   "outputs": [],
   "source": [
    "clown = ij.io().open(\"http://imagej.net/images/clown.png\")\n",
    "show(clown)"
   ]
  },
  {
   "cell_type": "markdown",
   "metadata": {},
   "source": [
    "He's a bit large, so let's scale him down. We'll use the `transform.scaleView` op.\n",
    "\n",
    "For succinctness, we'll write only `scaleView` rather than the fully qualified op name `transform.scaleView`.\n",
    "\n",
    "Right now, there is no default interpolation strategy, so we have to explicitly specify one. We'll use N-linear interpolation, since it tends to look pretty nice."
   ]
  },
  {
   "cell_type": "code",
   "execution_count": null,
   "metadata": {},
   "outputs": [],
   "source": [
    "import net.imglib2.interpolation.randomaccess.NLinearInterpolatorFactory\n",
    "\n",
    "scaleFactors = [0.5, 0.5, 1] // Reduce X and Y to 50%; leave C dimension alone.\n",
    "interpolationStrategy = new NLinearInterpolatorFactory()\n",
    "\n",
    "image = ij.op().run(\"scaleView\", clown, scaleFactors, interpolationStrategy)\n",
    "show(image)"
   ]
  },
  {
   "cell_type": "markdown",
   "metadata": {},
   "source": [
    "Lastly, let's prepare a grayscale version, which will work better for demonstrating certain ops later. We'll crop to only the red channel for that."
   ]
  },
  {
   "cell_type": "code",
   "execution_count": null,
   "metadata": {},
   "outputs": [],
   "source": [
    "import net.imglib2.FinalInterval\n",
    "w = image.dimension(0); h = image.dimension(1)\n",
    "slice = FinalInterval.createMinSize(0, 0, 0, w, h, 1)\n",
    "\n",
    "grayImage = ij.op().run(\"crop\", image, slice, true)\n",
    "show(grayImage)"
   ]
  },
  {
   "cell_type": "markdown",
   "metadata": {},
   "source": [
    "## Learning about available ops"
   ]
  },
  {
   "cell_type": "markdown",
   "metadata": {},
   "source": [
    "You can get a complete list of available ops using the `ops()` method. But it is a bit overwhelming, so here is a structured version organized by namespace:"
   ]
  },
  {
   "cell_type": "code",
   "execution_count": null,
   "metadata": {},
   "outputs": [],
   "source": [
    "import net.imagej.ops.OpUtils\n",
    "opsByNS = [:]\n",
    "ij.op().ops().each{op ->\n",
    "  ns = OpUtils.getNamespace(op)\n",
    "  name = OpUtils.stripNamespace(op)\n",
    "  if (!opsByNS.containsKey(ns)) opsByNS.put(ns, name)\n",
    "  else opsByNS.put(ns, opsByNS.get(ns) + ', ' + name)\n",
    "}\n",
    "opsByNS.put('<global>', opsByNS.remove(null))\n",
    "opsByNS"
   ]
  },
  {
   "cell_type": "markdown",
   "metadata": {},
   "source": [
    "There is a helpful `help` op which prints out information about an op. We can use it to better understand what sorts of operations are possible, and what kinds of arguments they expect:"
   ]
  },
  {
   "cell_type": "code",
   "execution_count": null,
   "metadata": {},
   "outputs": [],
   "source": [
    "ij.op().help('gauss')"
   ]
  },
  {
   "cell_type": "markdown",
   "metadata": {},
   "source": [
    "The information above tells us that there are two available `gauss` operations: one which takes a list (`double[]`) of sigmas, and another which takes a single (`double`) sigma.\n",
    "\n",
    "There are a couple of important subtleties here:\n",
    "\n",
    "1. Some arguments have a `?` suffix, which means they are optional. If you leave them off, something reasonable will be done by default. In this case, the `out` and `outOfBounds` arguments are optional. You can leave them off ___in right-to-left order___. E.g., in the case above, calling `gauss(a, b, c)` means `gauss(out, in, sigmas)` and _not_ `gauss(in, sigmas, outOfBounds)`. If you want to omit the `out` argument while passing the `outOfBounds` argument, you can pass `null` for `out`—i.e., `gauss(null, in, sigmas, outOfBounds)`.\n",
    "\n",
    "2. The `out` argument is both an input _and_ an output. Hence, whatever object you pass as the `out` parameter will also be returned as the output. In this case, since `out` is optional, if you do not pass the `out` parameter (or you pass `null`), then one will be synthesized and returned.\n",
    "\n",
    "Lastly, you might be wondering what a `RandomAccessibleInterval` is. For now, it is enough to know it is an ImageJ image. See the \"Image samples\" tutorial for a more detailed introduction.\n",
    "\n",
    "Let's try calling the first `gauss` op:"
   ]
  },
  {
   "cell_type": "code",
   "execution_count": null,
   "metadata": {},
   "outputs": [],
   "source": [
    "// Smudge him up horizontally.\n",
    "double[] horizSigmas = [8, 0, 0]\n",
    "horizGauss = ij.op().filter().gauss(image, horizSigmas)\n",
    "\n",
    "// And now vertically.\n",
    "double[] vertSigmas = [0, 8, 0]\n",
    "vertGauss = ij.op().filter().gauss(image, vertSigmas)\n",
    "\n",
    "// We can also blur the channels.\n",
    "double[] channelSigmas = [0, 0, 1]\n",
    "channelGauss = ij.op().filter().gauss(image, channelSigmas)\n",
    "\n",
    "tile([image, horizGauss, vertGauss, channelGauss])"
   ]
  },
  {
   "cell_type": "markdown",
   "metadata": {},
   "source": [
    "There are two main ways to execute an op:\n",
    "\n",
    "1. The _type-safe_ way using a built-in method:\n",
    "   ```java\n",
    "   ij.op().foo().bar(...)\n",
    "   ```\n",
    "   This way tends to be nicer from type-safe languages like Java.\n",
    "   \n",
    "2. The _dynamic_ way using the `run` method:\n",
    "   ```java\n",
    "   ij.op().run(\"foo.bar\", ...)\n",
    "   ```\n",
    "   This way tends to be nicer from dynamically typed scripting languages.\n",
    "\n",
    "With the dynamic approach, passing the namespace is optional, so you can also write:\n",
    "```java\n",
    "ij.op().run(\"bar\", ...)\n",
    "```\n",
    "If there are ops with the same name across multiple namespaces (e.g., `math.and` and `logic.and`), then passing the short name will consider the op signatures across all namespaces.\n",
    "\n",
    "You will see both syntaxes used throughout this notebook."
   ]
  },
  {
   "cell_type": "markdown",
   "metadata": {},
   "source": [
    "## Generating images"
   ]
  },
  {
   "cell_type": "markdown",
   "metadata": {},
   "source": [
    "Images have to come from somewhere. You can use `ij.io().open(...)` to read one in from an external source such as files on disk, like we did above. But there are other ways, too."
   ]
  },
  {
   "cell_type": "markdown",
   "metadata": {},
   "source": [
    "### Creating an empty image"
   ]
  },
  {
   "cell_type": "markdown",
   "metadata": {},
   "source": [
    "You can create an empty (zero-filled) image using the `create.img` op."
   ]
  },
  {
   "cell_type": "code",
   "execution_count": null,
   "metadata": {},
   "outputs": [],
   "source": [
    "ij.op().help(\"create.img\")"
   ]
  },
  {
   "cell_type": "code",
   "execution_count": null,
   "metadata": {},
   "outputs": [],
   "source": [
    "def info(name, image) {\n",
    "  imageType = image.firstElement().getClass().getSimpleName()\n",
    "  println(name + \" = \" + image.dimension(0) + \" x \" + image.dimension(1) + \" x \" + image.dimension(2) + \" : \" + imageType)\n",
    "}\n",
    "\n",
    "info(\"Original \", image)\n",
    "\n",
    "// Create an empty image of the same size as an existing image.\n",
    "empty = ij.op().run(\"create.img\", image)\n",
    "info(\"Empty one\", empty)\n",
    "\n",
    "// Create an empty image based on another image, but of different type.\n",
    "import net.imglib2.type.logic.BitType\n",
    "bitType = ij.op().run(\"create.img\", image, new BitType())\n",
    "info(\"Bit image\", bitType)\n",
    "\n",
    "// Create an image from scratch.\n",
    "import net.imglib2.type.numeric.real.FloatType\n",
    "info(\"Small float\", ij.op().run(\"create.img\", [25, 17, 2], new FloatType()))"
   ]
  },
  {
   "cell_type": "markdown",
   "metadata": {},
   "source": [
    "See \"Converting between image types\" below for more about image types."
   ]
  },
  {
   "cell_type": "markdown",
   "metadata": {},
   "source": [
    "### Copying an image"
   ]
  },
  {
   "cell_type": "markdown",
   "metadata": {},
   "source": [
    "You can easily make a copy of an image using ops from the `copy` namespace."
   ]
  },
  {
   "cell_type": "code",
   "execution_count": null,
   "metadata": {},
   "outputs": [],
   "source": [
    "ij.op().help(\"copy.rai\")"
   ]
  },
  {
   "cell_type": "code",
   "execution_count": null,
   "metadata": {},
   "outputs": [],
   "source": [
    "copy = ij.op().run(\"copy.rai\", image)\n",
    "show(copy)"
   ]
  },
  {
   "cell_type": "markdown",
   "metadata": {},
   "source": [
    "### Generating an image from a formula"
   ]
  },
  {
   "cell_type": "markdown",
   "metadata": {},
   "source": [
    "The `equation` op allows you to generate an image from a formula in JavaScript syntax.\n",
    "\n",
    "Such images can be useful for testing without needing an external image source, or a long and bulky list of numbers."
   ]
  },
  {
   "cell_type": "code",
   "execution_count": null,
   "metadata": {},
   "outputs": [],
   "source": [
    "ij.op().help(\"equation\")"
   ]
  },
  {
   "cell_type": "code",
   "execution_count": null,
   "metadata": {},
   "outputs": [],
   "source": [
    "import net.imglib2.type.numeric.integer.UnsignedByteType\n",
    "sinusoid = ij.op().run(\"create.img\", [150, 100], new UnsignedByteType())\n",
    "formula = \"63 * (Math.cos(0.3*p[0]) + Math.sin(0.3*p[1])) + 127\"\n",
    "show(ij.op().image().equation(sinusoid, formula))"
   ]
  },
  {
   "cell_type": "markdown",
   "metadata": {},
   "source": [
    "### Wrapping an array as an image"
   ]
  },
  {
   "cell_type": "markdown",
   "metadata": {},
   "source": [
    "There is no op yet to create an image by wrapping an existing array of values. For now, you can use ImgLib2 utility methods for that:"
   ]
  },
  {
   "cell_type": "code",
   "execution_count": null,
   "metadata": {},
   "outputs": [],
   "source": [
    "// Here we have a gradient ramp in an array.\n",
    "w = 160; h = 96\n",
    "byte[] pixels = new byte[w * h]\n",
    "for (y in 0..h-1) {\n",
    "  for (x in 0..w-1) {\n",
    "    pixels[y * w + x] = x + y\n",
    "  }\n",
    "}\n",
    "\n",
    "// Wrap the array into an image.\n",
    "import net.imglib2.img.array.ArrayImgs\n",
    "ramp = ArrayImgs.unsignedBytes(pixels, w, h)\n",
    "show(ramp)"
   ]
  },
  {
   "cell_type": "markdown",
   "metadata": {},
   "source": [
    "## Computing statistics"
   ]
  },
  {
   "cell_type": "markdown",
   "metadata": {},
   "source": [
    "The `stats` package has routines for computing numerical statistics.\n",
    "\n",
    "Here is a rundown of many of them:"
   ]
  },
  {
   "cell_type": "code",
   "execution_count": null,
   "metadata": {},
   "outputs": [],
   "source": [
    "sinusoid32 = ij.op().run(\"create.img\", [150, 100])\n",
    "formula = \"63 * (Math.cos(0.3*p[0]) + Math.sin(0.3*p[1])) + 127\"\n",
    "ij.op().image().equation(sinusoid32, formula)\n",
    "\n",
    "println(\"geometricMean = \" + ij.op().stats().geometricMean(sinusoid32))\n",
    "println(\"harmonicMean = \" + ij.op().stats().harmonicMean(sinusoid32))\n",
    "println(\"kurtosis = \" + ij.op().stats().kurtosis(sinusoid32))\n",
    "println(\"max = \" + ij.op().stats().max(sinusoid32))\n",
    "println(\"mean = \" + ij.op().stats().mean(sinusoid32))\n",
    "println(\"median = \" + ij.op().stats().median(sinusoid32))\n",
    "println(\"min = \" + ij.op().stats().min(sinusoid32))\n",
    "println(\"moment1AboutMean = \" + ij.op().stats().moment1AboutMean(sinusoid32))\n",
    "println(\"moment2AboutMean = \" + ij.op().stats().moment2AboutMean(sinusoid32))\n",
    "println(\"moment3AboutMean = \" + ij.op().stats().moment3AboutMean(sinusoid32))\n",
    "println(\"moment4AboutMean = \" + ij.op().stats().moment4AboutMean(sinusoid32))\n",
    "println(\"size = \" + ij.op().stats().size(sinusoid32))\n",
    "println(\"skewness = \" + ij.op().stats().skewness(sinusoid32))\n",
    "println(\"stdDev = \" + ij.op().stats().stdDev(sinusoid32))\n",
    "println(\"sum = \" + ij.op().stats().sum(sinusoid32))\n",
    "println(\"sumOfInverses = \" + ij.op().stats().sumOfInverses(sinusoid32))\n",
    "println(\"sumOfLogs = \" + ij.op().stats().sumOfLogs(sinusoid32))\n",
    "println(\"sumOfSquares = \" + ij.op().stats().sumOfSquares(sinusoid32))\n",
    "println(\"variance = \" + ij.op().stats().variance(sinusoid32))"
   ]
  },
  {
   "cell_type": "markdown",
   "metadata": {},
   "source": [
    "Note that `min` and `max` are particularly useful, since they report the actual minimum and maximum values of the image. These values are helpful for [autoscaling](https://imagej.net/Troubleshooting#The_image_I_loaded_is_displayed_all_black.21_But_it_is_not_black.21) to improve an image's appearance."
   ]
  },
  {
   "cell_type": "markdown",
   "metadata": {},
   "source": [
    "## Math on images"
   ]
  },
  {
   "cell_type": "markdown",
   "metadata": {},
   "source": [
    "In the `math` namespace, Ops provides traditional mathematical operations such as `add`, `subtract`, `multiply` and `divide`. These operations are overloaded in several ways:\n",
    "\n",
    "* Operate pixelwise between two images—e.g., `math.add(image1, image2)` when `image1` and `image2` have the same dimensions.\n",
    "* Operate between an image and a constant—e.g., `math.add(image, 5)` to add 5 to each sample of `image`.\n",
    "* Operate between two numerical values—e.g., `math.add(3, 5)` to compute the sum of 3 and 5.\n",
    "\n",
    "Some `math` ops are also already heavily optimized, since we used the `math.add` op as a testbed to validate that Ops could perform as well or better than ImageJ 1.x does."
   ]
  },
  {
   "cell_type": "code",
   "execution_count": null,
   "metadata": {},
   "outputs": [],
   "source": [
    "// Prepare a couple of equally sized images.\n",
    "import net.imglib2.type.numeric.real.FloatType\n",
    "image1 = ij.op().run(\"create.img\", [160, 96], new FloatType())\n",
    "image2 = ij.op().run(\"copy.rai\", image1)\n",
    "\n",
    "// Gradient toward bottom right.\n",
    "ij.op().image().equation(image1, \"p[0] + p[1]\")\n",
    "minMax1 = ij.op().stats().minMax(image1)\n",
    "println(\"image1 range = (\" + minMax1.getA() + \", \" + minMax1.getB() + \")\")\n",
    "\n",
    "// Sinusoid.\n",
    "ij.op().image().equation(image2, \"64 * (Math.sin(0.1 * p[0]) + Math.cos(0.1 * p[1])) + 128\")\n",
    "minMax2 = ij.op().stats().minMax(image2)\n",
    "println(\"image2 range = (\" + minMax2.getA() + \", \" + minMax2.getB() + \")\")\n",
    "\n",
    "tile([image1, image2])"
   ]
  },
  {
   "cell_type": "markdown",
   "metadata": {},
   "source": [
    "Let's test `math.add(image, number)`:"
   ]
  },
  {
   "cell_type": "code",
   "execution_count": null,
   "metadata": {},
   "outputs": [],
   "source": [
    "addImage = image1 // Try also with image2!\n",
    "tile([\n",
    "  addImage,\n",
    "  ij.op().run(\"math.add\", ij.op().run(\"copy.rai\", addImage), 60),\n",
    "  ij.op().run(\"math.add\", ij.op().run(\"copy.rai\", addImage), 120),\n",
    "  ij.op().run(\"math.add\", ij.op().run(\"copy.rai\", addImage), 180)\n",
    "])"
   ]
  },
  {
   "cell_type": "markdown",
   "metadata": {},
   "source": [
    "Notice how we had to make a copy of the source image for each `add(image, number)` above? This is because right now, the best-matching `math.add` op is an _inplace_ operation, modifying the source image. Ops is still young, and needs more fine tuning! In the meantime, watch out for details like this.\n",
    "\n",
    "Now we'll try `math.add(image1, image2)` and `math.subtract(image1, image2)`:"
   ]
  },
  {
   "cell_type": "code",
   "execution_count": null,
   "metadata": {},
   "outputs": [],
   "source": [
    "sum = ij.op().run(\"math.add\", image1, image2)\n",
    "diff = ij.op().run(\"math.subtract\", image1, image2)\n",
    "tile([sum, diff])"
   ]
  },
  {
   "cell_type": "markdown",
   "metadata": {},
   "source": [
    "Here is `math.multiply(image1, image2)`:"
   ]
  },
  {
   "cell_type": "code",
   "execution_count": null,
   "metadata": {},
   "outputs": [],
   "source": [
    "show(ij.op().run(\"math.multiply\", image1, image2))"
   ]
  },
  {
   "cell_type": "markdown",
   "metadata": {},
   "source": [
    "And finally `math.divide(image1, image2)`:"
   ]
  },
  {
   "cell_type": "code",
   "execution_count": null,
   "metadata": {},
   "outputs": [],
   "source": [
    "show(ij.op().run(\"math.divide\", image1, image2))"
   ]
  },
  {
   "cell_type": "markdown",
   "metadata": {},
   "source": [
    "## Evaluating expressions"
   ]
  },
  {
   "cell_type": "markdown",
   "metadata": {},
   "source": [
    "ImageJ Ops offers a powerful expression evaluation op, built on SciJava's [Parsington](https://github.com/scijava/parsington) library:"
   ]
  },
  {
   "cell_type": "code",
   "execution_count": null,
   "metadata": {},
   "outputs": [],
   "source": [
    "ij.op().help(\"eval\")"
   ]
  },
  {
   "cell_type": "markdown",
   "metadata": {},
   "source": [
    "Operators in the expression map to ops as follows:"
   ]
  },
  {
   "cell_type": "code",
   "execution_count": null,
   "metadata": {},
   "outputs": [],
   "source": [
    "import net.imagej.ops.eval.OpEvaluator\n",
    "// FIXME: Use `new OpEvaluator().getOpMap()` once imagej-ops 0.36.0 is released.\n",
    "opMapField = OpEvaluator.class.getDeclaredField(\"opMap\")\n",
    "opMapField.setAccessible(true)\n",
    "opMap = opMapField.get(new OpEvaluator())"
   ]
  },
  {
   "cell_type": "markdown",
   "metadata": {},
   "source": [
    "You can also call any op in an `eval` statement as a function, using familiar function syntax.\n",
    "\n",
    "Here is an example of the `eval` op being used to compute a [Difference of Gaussians](https://en.wikipedia.org/wiki/Difference_of_Gaussians):"
   ]
  },
  {
   "cell_type": "code",
   "execution_count": null,
   "metadata": {},
   "outputs": [],
   "source": [
    "image32 = ij.op().convert().float32(grayImage)\n",
    "dogFormula = \"gauss(image, [10, 10, 1]) - gauss(image, [5, 5, 1])\"\n",
    "dog = ij.op().eval(dogFormula, [\"image\": image32])\n",
    "show(dog)"
   ]
  },
  {
   "cell_type": "markdown",
   "metadata": {},
   "source": [
    "## Converting between image types"
   ]
  },
  {
   "cell_type": "markdown",
   "metadata": {},
   "source": [
    "Did you notice in the previous section that we computed the DoG on a `float32` version of the image? If we do not do this, the result will be wrong:"
   ]
  },
  {
   "cell_type": "code",
   "execution_count": null,
   "metadata": {},
   "outputs": [],
   "source": [
    "dogWrong = ij.op().eval(dogFormula, [\"image\": grayImage])\n",
    "dogConverted = ij.op().convert().uint8(dog)\n",
    "tile([dogWrong, dogConverted])"
   ]
  },
  {
   "cell_type": "markdown",
   "metadata": {},
   "source": [
    "As you can see, a DoG computed on the original `uint8` version of the image looks essentially the same as the `float32` DoG converted to `uint8`.\n",
    "\n",
    "The issue is that `uint8` images have only 8 bits per channel, with values ranging from 0 to 255. So while the equation is dutifully evaluated, non-integer values are truncated, and then only the lowest 8 bits are retained.\n",
    "\n",
    "Using a richer image type like `float32` avoids the problem. The `float32` type uses 32-bit [IEEE floating point](https://en.wikipedia.org/wiki/IEEE_floating_point) numbers for its samples, which an approximate range of\n",
    "$-3.4 \\times 10^{38}$\n",
    "to\n",
    "$3.4 \\times 10^{38}$.\n",
    "This type requires four times as much memory as `uint8`, but math errors will accumulate much less severely in common cases.\n",
    "\n",
    "<div style=\"float: left\"><img src=\"http://imagej.net/_images/a/a8/Imagej1-icon.png\" width=\"48\"></div>\n",
    "\n",
    "For those familiar with [ImageJ 1.x](http://imagej.net/ImageJ1), `float32` corresponds to ImageJ 1.x's \"32-bit\" type in the Image &rarr; Type menu, and is typically what people choose when performing sequences of mathematical operations.\n",
    "\n",
    "<div style=\"clear: left\"></div>"
   ]
  },
  {
   "cell_type": "markdown",
   "metadata": {},
   "source": [
    "### Built-in image types"
   ]
  },
  {
   "cell_type": "markdown",
   "metadata": {},
   "source": [
    "In ImageJ Ops, many image types are available:"
   ]
  },
  {
   "cell_type": "code",
   "execution_count": null,
   "metadata": {},
   "outputs": [],
   "source": [
    "ij.op().ops().findAll{op ->\n",
    "  op.startsWith(\"convert.big\") ||\n",
    "  op.startsWith(\"convert.bit\") ||\n",
    "  op.startsWith(\"convert.cfloat\") ||\n",
    "  op.startsWith(\"convert.float\") ||\n",
    "  op.startsWith(\"convert.int\") ||\n",
    "  op.startsWith(\"convert.uint\")\n",
    "}.collect{op -> op[8..-1]}"
   ]
  },
  {
   "cell_type": "markdown",
   "metadata": {},
   "source": [
    "In some circumstances, one of the above types is more appropriate than `float32`. For example, if we are squaring an image, we could use `uint16`, since the square of a number from 0 to 255 will always be in the range of 0 to 65535. It may sometimes make sense to use a high-precision integer type such as `uint128` rather than a potentially lossy floating point type like `float32`."
   ]
  },
  {
   "cell_type": "markdown",
   "metadata": {},
   "source": [
    "### Methods of type conversion"
   ]
  },
  {
   "cell_type": "markdown",
   "metadata": {},
   "source": [
    "Ops provides four built-in ways of converting image values across types:\n",
    "\n",
    "* `convert.copy` tranfers the values directly. This is the fastest method, but there is no bounds checking, so you may see overflow, or in some cases even end up with invalid sample values.\n",
    "* `convert.clip` is like `copy` but includes bounds checking. Values less than the minimum are _clipped_ (also called _clamped_) to the minimum value, and values greater than the maximum are clipped to the maximum.\n",
    "* `convert.scale` multiplies sample values by a scale factor, such that the intensities fall into the same _relative histogram_ over the whole target type:\n",
    "  $[sourceTypeMin, sourceTypeMax] \\to [destTypeMin, destTypeMax]$.\n",
    "  E.g., converting from `uint8` to `uint16` linearly scales\n",
    "  $[0, 255] \\to [0, 65535]$.\n",
    "* `convert.normalizeScale` multiplies sample values by a scale factor, such that intensities are distributed across the _full range_ of the target type:\n",
    "  $[sourceDataMin, sourceDataMax] \\to [destTypeMin, destTypeMax]$.\n",
    "  E.g., converting a `uint8` image with an actual minimum sample value of 16 and actual maximum sample value of 127 to `uint16` linearly scales\n",
    "  $[16, 127] \\to [0, 65535]$.\n",
    "\n",
    "Below, we show how to convert images using these approaches."
   ]
  },
  {
   "cell_type": "code",
   "execution_count": null,
   "metadata": {},
   "outputs": [],
   "source": [
    "// Make a handy method for printing the image min/max.\n",
    "printMinMax = { prefix, image ->\n",
    "  minMax = ij.op().stats().minMax(image)\n",
    "  println(prefix + \": min = \" + minMax.getA() + \", max = \" + minMax.getB())\n",
    "}\n",
    "\n",
    "// Create an image with an illustrative range of intensities.\n",
    "import net.imglib2.type.numeric.integer.UnsignedShortType\n",
    "imageToConvert = ij.op().run(\"create.img\", [96, 64], new UnsignedShortType())\n",
    "formula = \"128 * (Math.cos(0.3*p[0]) + Math.sin(0.3*p[1])) + 384\"\n",
    "ij.op().image().equation(imageToConvert, formula)\n",
    "printMinMax(\"Original\", imageToConvert)\n",
    "show(imageToConvert)"
   ]
  },
  {
   "cell_type": "markdown",
   "metadata": {},
   "source": [
    "Now we will call the various convert ops. Please be aware that these ops currently have architectural issues, which we plan to address in a future version of ImageJ Ops. The code below works, but is subject to change until the ImageJ Ops 1.0.0 release."
   ]
  },
  {
   "cell_type": "code",
   "execution_count": null,
   "metadata": {},
   "outputs": [],
   "source": [
    "import net.imagej.ops.Ops\n",
    "import net.imagej.ops.special.computer.Computers\n",
    "import net.imglib2.type.numeric.integer.UnsignedByteType\n",
    "\n",
    "convertMethods = [\n",
    "  Ops.Convert.Copy.class,\n",
    "  Ops.Convert.Clip.class,\n",
    "  // HACK: convert.scale op is disabled here due to a bug in Ops.\n",
    "//  Ops.Convert.Scale.class,\n",
    "  Ops.Convert.NormalizeScale.class\n",
    "]\n",
    "\n",
    "convertedImages = []\n",
    "for (convertMethod in convertMethods) {\n",
    "  // Create a uint8 destination image for the conversion.\n",
    "  convertedImage = ij.op().run(\"create.img\", imageToConvert, new UnsignedByteType())\n",
    "\n",
    "  // Look up the needed convert op for converting from source to destination.\n",
    "  inType = imageToConvert.firstElement() // Type from which we are converting.\n",
    "  outType = convertedImage.firstElement() // Type to which we are converting.\n",
    "  convertOp = Computers.unary(ij.op(), convertMethod, outType, inType)\n",
    "  \n",
    "  // NB: Prepare the convert op to behave properly.\n",
    "  // The need for these calls is hacky, and will be fixed in a future version of Ops.\n",
    "  convertOp.checkInput(inType, outType)\n",
    "  convertOp.checkInput(imageToConvert)\n",
    "\n",
    "  // Run this convert op on every sample of our source image.\n",
    "  ij.op().run(\"map\", convertedImage, imageToConvert, convertOp)\n",
    "  methodName = convertMethod.getField(\"NAME\").get(null)\n",
    "  printMinMax(methodName, convertedImage)\n",
    "  convertedImages.add(convertedImage)\n",
    "}\n",
    "\n",
    "tile(convertedImages)"
   ]
  },
  {
   "cell_type": "markdown",
   "metadata": {},
   "source": [
    "The code above makes use of the `map` op to execute the appropriate `convert` op on each element of a collection. "
   ]
  },
  {
   "cell_type": "markdown",
   "metadata": {},
   "source": [
    "## Filtering"
   ]
  },
  {
   "cell_type": "markdown",
   "metadata": {},
   "source": [
    "There are lots of image filtering operations available in the `filter` namespace:"
   ]
  },
  {
   "cell_type": "code",
   "execution_count": null,
   "metadata": {},
   "outputs": [],
   "source": [
    "ij.op().ops().findAll{op ->\n",
    "  op.startsWith(\"filter.\")\n",
    "}.collect{op -> op[7..-1]}"
   ]
  },
  {
   "cell_type": "markdown",
   "metadata": {},
   "source": [
    "Here is a demonstration of some of them:"
   ]
  },
  {
   "cell_type": "code",
   "execution_count": null,
   "metadata": {},
   "outputs": [],
   "source": [
    "ij.op().help(\"filter.addPoissonNoise\")"
   ]
  },
  {
   "cell_type": "code",
   "execution_count": null,
   "metadata": {},
   "outputs": [],
   "source": [
    "imageToFilter = image32\n",
    "radius = 3\n",
    "\n",
    "// We will use a 3x3 diamond as our neighborhood here.\n",
    "import net.imglib2.algorithm.neighborhood.DiamondShape\n",
    "shape = new DiamondShape(radius)\n",
    "\n",
    "// Add Poisson noise.\n",
    "addPoissonNoise = ij.op().run(\"create.img\", imageToFilter)\n",
    "ij.op().filter().addPoissonNoise(addPoissonNoise, imageToFilter)\n",
    "\n",
    "// Gaussian blur.\n",
    "gauss = ij.op().filter().gauss(imageToFilter, radius)\n",
    "\n",
    "// Median filter.\n",
    "median = ij.op().run(\"create.img\", imageToFilter)\n",
    "ij.op().filter().median(median, imageToFilter, shape)\n",
    "\n",
    "// Min filter.\n",
    "min = ij.op().run(\"create.img\", imageToFilter)\n",
    "ij.op().filter().min(min, imageToFilter, shape)\n",
    "\n",
    "// Max filter.\n",
    "max = ij.op().run(\"create.img\", imageToFilter)\n",
    "ij.op().filter().max(max, imageToFilter, shape)\n",
    "\n",
    "// Display the results side by side.\n",
    "tile([\n",
    "  [imageToFilter, addPoissonNoise, gauss],\n",
    "  [median, min, max]\n",
    "])"
   ]
  },
  {
   "cell_type": "markdown",
   "metadata": {},
   "source": [
    "Finally, let's take a special look at the Difference of Gaussians op, `filter.dog`:"
   ]
  },
  {
   "cell_type": "code",
   "execution_count": null,
   "metadata": {},
   "outputs": [],
   "source": [
    "imageToProcess = image32\n",
    "sigma1 = 5\n",
    "sigma2 = 10\n",
    "\n",
    "// Difference of Gaussians.\n",
    "dog = ij.op().filter().dog(imageToProcess, sigma1, sigma2) // gauss(sigma2) - gauss(sigma1)\n",
    "\n",
    "// We can also use eval to perform the DoG.\n",
    "vars = [\n",
    "  \"i\": imageToProcess,\n",
    "  \"sigma1\": [sigma1, sigma1],\n",
    "  \"sigma2\": [sigma2, sigma2]\n",
    "]\n",
    "evalDoG = ij.op().eval(\"gauss(i, sigma2) - gauss(i, sigma1)\", vars)\n",
    "\n",
    "tile([dog, evalDoG])"
   ]
  },
  {
   "cell_type": "markdown",
   "metadata": {},
   "source": [
    "## Transforming images"
   ]
  },
  {
   "cell_type": "markdown",
   "metadata": {},
   "source": [
    "Image transformations such as rotation, scaling and cropping are accomplished using ops of the `transform` namespace.\n",
    "\n",
    "Most ops of this namespace have the nice property of being _views_: they do not actually copy image samples, but rather wrap the image, offering a modified \"window\" into the original data. Using views helps to greatly reduce computer memory usage, at a very minimal time performance cost. If you need a deep copy of the image for some reason (e.g., if time performance is paramount, or if you want to modify the transformed image samples in-place without affecting other transformed versions of the image), you can still copy it using the `copy` namespace; see \"Generating images\" above for details."
   ]
  },
  {
   "cell_type": "code",
   "execution_count": null,
   "metadata": {},
   "outputs": [],
   "source": [
    "ij.op().ops().findAll{op ->\n",
    "  op.startsWith(\"transform.\")\n",
    "}.collect{op -> op[10..-1]}"
   ]
  },
  {
   "cell_type": "markdown",
   "metadata": {},
   "source": [
    "### Rotating an image"
   ]
  },
  {
   "cell_type": "markdown",
   "metadata": {},
   "source": [
    "The `transform.rotateView` op rotates the image 90 degrees from one dimensional axis to another. E.g., in the 2D case, rotating Y &rarr; X is a clockwise rotation, while rotating X &rarr; Y is a counterclockwise one."
   ]
  },
  {
   "cell_type": "code",
   "execution_count": null,
   "metadata": {},
   "outputs": [],
   "source": [
    "ij.op().help(\"rotateView\")"
   ]
  },
  {
   "cell_type": "markdown",
   "metadata": {},
   "source": [
    "Here is an example usage of the `transform.rotateView` op.\n",
    "\n",
    "Note that at the moment, for rather technical reasons, rotating an image removes the bounding box; for the rotated result to be fully usable afterward, a new bounding box must be specified. If you want to understand this, then study the following code carefully to see how this is done using the `transform.intervalView` op, which adds or changes the bounding box of an image. Otherwise, you may simply copy the `rotate` function below and enjoy. The `rotateView` op in a future version of ImageJ Ops will probably rebound the image automatically, to avoid this complication."
   ]
  },
  {
   "cell_type": "code",
   "execution_count": null,
   "metadata": {},
   "outputs": [],
   "source": [
    "def rotate(image, fromAxis, toAxis) {\n",
    "  // Perform the rotation.\n",
    "  rotated = ij.op().run(\"rotateView\", image, toAxis, fromAxis)\n",
    "  \n",
    "  // Adjust the bounds to match the rotated interval.\n",
    "  // Some day, the rotate op will take care of this automatically.\n",
    "  min = new long[image.numDimensions()]\n",
    "  max = new long[image.numDimensions()]\n",
    "  image.min(min)\n",
    "  image.max(max)\n",
    "  minFrom = min[toAxis]; minTo = -max[fromAxis]\n",
    "  maxFrom = max[toAxis]; maxTo = -min[fromAxis]\n",
    "  min[toAxis] = minTo; min[fromAxis] = minFrom\n",
    "  max[toAxis] = maxTo; max[fromAxis] = maxFrom\n",
    "  return ij.op().run(\"intervalView\", rotated, min, max)\n",
    "}\n",
    "\n",
    "bounds = {interval ->\n",
    "  return \"(\" + interval.min(0) + \", \" + interval.min(1) + \") - \" +\n",
    "         \"(\" + interval.max(0) + \", \" + interval.max(1) + \")\"\n",
    "}\n",
    "\n",
    "// Define our axis indices, for readability.\n",
    "// In this case, we have a priori knowledge.\n",
    "x = 0; y = 1; c = 2\n",
    "\n",
    "// Rotate the image.\n",
    "rotated = rotate(image, y, x) // 90 degrees clockwise\n",
    "//rotated = rotate(image, x, y) // 90 degrees counter-clockwise\n",
    "//rotated = rotate(image, x, c) // rotate through channels! WAT\n",
    "\n",
    "// The interval bounds have changed!\n",
    "println(\"Old bounds: \" + bounds(image))\n",
    "println(\"New bounds: \" + bounds(rotated))\n",
    "\n",
    "show(rotated)"
   ]
  },
  {
   "cell_type": "markdown",
   "metadata": {},
   "source": [
    "### Cropping an image"
   ]
  },
  {
   "cell_type": "markdown",
   "metadata": {},
   "source": [
    "The `transform.crop` op crops an image N-dimensionally. E.g., you can use it to create a substack of a 3D dataset, cut out irrelevant channels, or crop the XY planes as with 2D image processing software."
   ]
  },
  {
   "cell_type": "code",
   "execution_count": null,
   "metadata": {},
   "outputs": [],
   "source": [
    "ij.op().help(\"crop\")"
   ]
  },
  {
   "cell_type": "markdown",
   "metadata": {},
   "source": [
    "Below, we show two ways to crop an image: 1) with `transform.crop`; and 2) using `transform.intervalView`. The former translates the image back to the origin, while the latter does not."
   ]
  },
  {
   "cell_type": "code",
   "execution_count": null,
   "metadata": {},
   "outputs": [],
   "source": [
    "import net.imglib2.FinalInterval\n",
    "region = FinalInterval.createMinSize(75, 27, 0, 40, 28, 3)\n",
    "\n",
    "eye = ij.op().run(\"crop\", image, region)\n",
    "eyeView = ij.op().run(\"intervalView\", image, region)\n",
    "\n",
    "tile([eye, eyeView])"
   ]
  },
  {
   "cell_type": "markdown",
   "metadata": {},
   "source": [
    "### Scaling an image"
   ]
  },
  {
   "cell_type": "markdown",
   "metadata": {},
   "source": [
    "To perform [image scaling](https://en.wikipedia.org/wiki/Image_scaling), use the `transform.scaleView` op. You already saw it in action in the \"Getting started\" section, but here it is again—this time enlarging an image rather than reducing it.\n",
    "\n",
    "Just for fun, we compare three different interpolation strategies: [nearest neighbor](https://en.wikipedia.org/wiki/Nearest-neighbor_interpolation), [N-linear](https://en.wikipedia.org/wiki/Linear_interpolation), and [Lanczos](https://en.wikipedia.org/wiki/Lanczos_resampling)."
   ]
  },
  {
   "cell_type": "code",
   "execution_count": null,
   "metadata": {},
   "outputs": [],
   "source": [
    "import net.imglib2.interpolation.randomaccess.NearestNeighborInterpolatorFactory\n",
    "import net.imglib2.interpolation.randomaccess.NLinearInterpolatorFactory\n",
    "import net.imglib2.interpolation.randomaccess.LanczosInterpolatorFactory\n",
    "\n",
    "scaleFactors = [4, 4, 1] // Enlarge X and Y by 4x; leave channel count the same.\n",
    "\n",
    "nearestNeighborEye = ij.op().run(\"scaleView\", eye, scaleFactors, new NearestNeighborInterpolatorFactory())\n",
    "nLinearEye = ij.op().run(\"scaleView\", eye, scaleFactors, new NLinearInterpolatorFactory())\n",
    "lanczosEye = ij.op().run(\"scaleView\", eye, scaleFactors, new LanczosInterpolatorFactory())\n",
    "\n",
    "tile([nearestNeighborEye, nLinearEye, lanczosEye])"
   ]
  },
  {
   "cell_type": "markdown",
   "metadata": {},
   "source": [
    "Of course, some detail from the original image has been lost, since we scaled down and then back up again."
   ]
  },
  {
   "cell_type": "markdown",
   "metadata": {},
   "source": [
    "### Padding an image"
   ]
  },
  {
   "cell_type": "markdown",
   "metadata": {},
   "source": [
    "The `transform.intervalView` can also be used to expand the bounding box of an image. However, there is one catch: you must first decide what the out-of-bounds sample values will be. The `transform.extend` ops achieve this goal. If you forget to extend the image before padding it via `intervalView`, you will receive an exception when attempting to query any out-of-bounds samples.\n",
    "\n",
    "Note that like `transform.rotateView` the various `transform.extend` ops explicitly remove the bounding box of an image, expanding the defined sample values to infinity in all directions. In most circumstances, you will want to use `transform.intervalView` to rebound the image after extending it."
   ]
  },
  {
   "cell_type": "code",
   "execution_count": null,
   "metadata": {},
   "outputs": [],
   "source": [
    "ij.op().ops().findAll{op ->\n",
    "  op.startsWith(\"transform.extend\")\n",
    "}.collect{op -> op[10..-1]}"
   ]
  },
  {
   "cell_type": "markdown",
   "metadata": {},
   "source": [
    "Here are some side-by-side examples of what happens when you pad an image with these various approaches:"
   ]
  },
  {
   "cell_type": "code",
   "execution_count": null,
   "metadata": {},
   "outputs": [],
   "source": [
    "def pad(image, extended, t, r, b, l) {\n",
    "  min = new long[image.numDimensions()]\n",
    "  max = new long[image.numDimensions()]\n",
    "  image.min(min)\n",
    "  image.max(max)\n",
    "  min[0] -= l; min[1] -= t; max[0] += r; max[1] += b\n",
    "  return ij.op().run(\"intervalView\", extended, min, max)\n",
    "}\n",
    "\n",
    "// Define the top, right, bottom and left padding amounts.\n",
    "t = r = b = l = 20\n",
    "\n",
    "// Pad the image with different out-of-bounds strategies.\n",
    "\n",
    "extendedBorder = ij.op().run(\"transform.extendBorderView\", eye)\n",
    "paddedBorder = pad(eye, extendedBorder, t, r, b, l)\n",
    "\n",
    "extendedMirrorDouble = ij.op().run(\"transform.extendMirrorDoubleView\", eye)\n",
    "paddedMirrorDouble = pad(eye, extendedMirrorDouble, t, r, b, l)\n",
    "\n",
    "extendedMirrorSingle = ij.op().run(\"transform.extendMirrorSingleView\", eye)\n",
    "paddedMirrorSingle = pad(eye, extendedMirrorSingle, t, r, b, l)\n",
    "\n",
    "extendedPeriodic = ij.op().run(\"transform.extendPeriodicView\", eye)\n",
    "paddedPeriodic = pad(eye, extendedPeriodic, t, r, b, l)\n",
    "\n",
    "minValue = eye.firstElement().getMinValue().doubleValue()\n",
    "maxValue = eye.firstElement().getMaxValue().doubleValue()\n",
    "extendedRandom = ij.op().run(\"transform.extendRandomView\", eye, minValue, maxValue)\n",
    "paddedRandom = pad(eye, extendedRandom, t, r, b, l)\n",
    "\n",
    "value = eye.firstElement().copy(); value.set(100)\n",
    "extendedValue = ij.op().run(\"transform.extendValueView\", eye, value)\n",
    "paddedValue = pad(eye, extendedValue, t, r, b, l)\n",
    "\n",
    "extendedZero = ij.op().run(\"transform.extendZeroView\", eye)\n",
    "paddedZero = pad(eye, extendedZero, t, r, b, l)\n",
    "\n",
    "show(paddedRandom)\n",
    "/*\n",
    "tile([\n",
    "  [paddedBorder, paddedMirrorDouble, paddedMirrorSingle, paddedPeriodic],\n",
    "  [paddedRandom, paddedValue, paddedZero]\n",
    "])\n",
    "*/"
   ]
  },
  {
   "cell_type": "markdown",
   "metadata": {},
   "source": [
    "## Thresholding"
   ]
  },
  {
   "cell_type": "markdown",
   "metadata": {},
   "source": [
    "Ops has all the same global thresholding methods as ImageJ 1.x, as well as some local thresholding methods."
   ]
  },
  {
   "cell_type": "code",
   "execution_count": null,
   "metadata": {},
   "outputs": [],
   "source": [
    "ij.op().ops().findAll{op ->\n",
    "  op.startsWith(\"threshold.\")\n",
    "}.collect{op -> op[10..-1]}"
   ]
  },
  {
   "cell_type": "markdown",
   "metadata": {},
   "source": [
    "Let's check out the global thresholding algorithms:"
   ]
  },
  {
   "cell_type": "code",
   "execution_count": null,
   "metadata": {},
   "outputs": [],
   "source": [
    "threshImage = grayImage\n",
    "\n",
    "tHuang = ij.op().threshold().huang(threshImage)\n",
    "tIJ1 = ij.op().threshold().ij1(threshImage) // ImageJ 1.x calls this \"Default\"\n",
    "tIntermodes = ij.op().threshold().intermodes(threshImage)\n",
    "tIsoData = ij.op().threshold().isoData(threshImage)\n",
    "tLi = ij.op().threshold().li(threshImage)\n",
    "tMaxEntropy = ij.op().threshold().maxEntropy(threshImage)\n",
    "tMaxLikelihood = ij.op().threshold().maxLikelihood(threshImage)\n",
    "tMean = ij.op().threshold().mean(threshImage)\n",
    "tMinError = ij.op().threshold().minError(threshImage)\n",
    "tMinimum = ij.op().threshold().minimum(threshImage)\n",
    "tMoments = ij.op().threshold().moments(threshImage)\n",
    "tOtsu = ij.op().threshold().otsu(threshImage)\n",
    "tPercentile = ij.op().threshold().percentile(threshImage)\n",
    "tRenyiEntropy = ij.op().threshold().renyiEntropy(threshImage)\n",
    "tRosin = ij.op().threshold().rosin(threshImage)\n",
    "tShanbhag = ij.op().threshold().shanbhag(threshImage)\n",
    "tTriangle = ij.op().threshold().triangle(threshImage)\n",
    "tYen = ij.op().threshold().yen(threshImage)\n",
    "\n",
    "tile([\n",
    "  [        tHuang,          tIJ1, tIntermodes,  tIsoData,       tLi, tMaxEntropy],\n",
    "  [tMaxLikelihood,         tMean,   tMinError,  tMinimum,  tMoments,       tOtsu],\n",
    "  [   tPercentile, tRenyiEntropy,      tRosin, tShanbhag, tTriangle,        tYen]\n",
    "])"
   ]
  },
  {
   "cell_type": "markdown",
   "metadata": {},
   "source": [
    "Let's try some local thresholding. This is a bit more complex, because local thresholding algorithms typically need a neighborhood, and often some other secondary parameters. We will take the Bernsen algorithm for a spin:"
   ]
  },
  {
   "cell_type": "code",
   "execution_count": null,
   "metadata": {},
   "outputs": [],
   "source": [
    "ij.op().help(\"threshold.localBernsenThreshold\")"
   ]
  },
  {
   "cell_type": "code",
   "execution_count": null,
   "metadata": {},
   "outputs": [],
   "source": [
    "import net.imglib2.algorithm.neighborhood.HyperSphereShape\n",
    "\n",
    "threshImage = grayImage\n",
    "\n",
    "// Secondary parameter values. These are wild guesses.\n",
    "contrastThreshold = 10\n",
    "halfMaxValue = 10\n",
    "\n",
    "// Let's try with a variety of neighborhood radii and compare side-by-side.\n",
    "import net.imglib2.type.logic.BitType\n",
    "radii = [1, 3, 5, 8, 12, 15]\n",
    "bernsenImages = []\n",
    "for (radius in radii) {\n",
    "  binaryImage = ij.op().run(\"create.img\", threshImage, new BitType())\n",
    "  ij.op().threshold().localBernsenThreshold(binaryImage, threshImage, new HyperSphereShape(radius), contrastThreshold, halfMaxValue)\n",
    "  bernsenImages.add(binaryImage)\n",
    "}\n",
    "tile(bernsenImages)"
   ]
  },
  {
   "cell_type": "markdown",
   "metadata": {},
   "source": [
    "Nice illustration of how much better local thresholding can be, eh? The limited scope when thresholding each pixel can go a long way toward correcting for issues like uneven illumination."
   ]
  },
  {
   "cell_type": "markdown",
   "metadata": {},
   "source": [
    "## Mathematical morphology"
   ]
  },
  {
   "cell_type": "markdown",
   "metadata": {},
   "source": [
    "Ops includes operators for [mathematical morphology](https://en.wikipedia.org/wiki/Mathematical_morphology) in both binary and grayscale. The two most basic morphological operators are:\n",
    "\n",
    "* _erosion_ – reducing bright pixels at the borders\n",
    "* _dilation_ - growing bright pixels at the borders\n",
    "\n",
    "The next two most basic are:\n",
    "\n",
    "* _opening_ - dilation of the erosion\n",
    "* _closing_ - erosion of the dilation\n",
    "\n",
    "These latter two are not strictly necessary, since you can simply call `erode` followed by `dilate` or vice versa, but they are convenient as a shorthand."
   ]
  },
  {
   "cell_type": "code",
   "execution_count": null,
   "metadata": {},
   "outputs": [],
   "source": [
    "// HINT: Try different binary images here!\n",
    "morphImage = binaryImage\n",
    "\n",
    "// We will use the smallest radius: a single pixel.\n",
    "import net.imglib2.algorithm.neighborhood.HyperSphereShape\n",
    "shape = new HyperSphereShape(1)\n",
    "\n",
    "erode = ij.op().morphology().erode(morphImage, shape)\n",
    "dilate = ij.op().morphology().dilate(morphImage, shape)\n",
    "open = ij.op().morphology().open(morphImage, [shape])\n",
    "close = ij.op().morphology().close(morphImage, [shape])\n",
    "// Let's also check whether open and close visually match what we expect.\n",
    "manualOpen = ij.op().morphology().dilate(erode, shape)\n",
    "manualClose = ij.op().morphology().erode(dilate, shape)\n",
    "\n",
    "tile([[erode, dilate], [open, close], [manualOpen, manualClose]])"
   ]
  },
  {
   "cell_type": "markdown",
   "metadata": {},
   "source": [
    "The open and close look good—they match their respective definitions.\n",
    "\n",
    "Let's quickly try some [grayscale morphological operations](https://en.wikipedia.org/wiki/Mathematical_morphology#Grayscale_morphology) as well. This time we also invoke the [top-hat transform](https://en.wikipedia.org/wiki/Top-hat_transform)."
   ]
  },
  {
   "cell_type": "code",
   "execution_count": null,
   "metadata": {},
   "outputs": [],
   "source": [
    "morphImage = grayImage\n",
    "\n",
    "// We will use a larger radius of 3 for our neighborhood this time.\n",
    "import net.imglib2.algorithm.neighborhood.HyperSphereShape\n",
    "shape = new HyperSphereShape(3)\n",
    "\n",
    "erode = ij.op().morphology().erode(morphImage, shape)\n",
    "dilate = ij.op().morphology().dilate(morphImage, shape)\n",
    "open = ij.op().morphology().open(morphImage, [shape])\n",
    "close = ij.op().morphology().close(morphImage, [shape])\n",
    "blackTopHat = ij.op().morphology().blackTopHat(morphImage, [shape])\n",
    "whiteTopHat = ij.op().morphology().topHat(morphImage, [shape])\n",
    "\n",
    "tile([[erode, dilate], [open, close], [blackTopHat, whiteTopHat]])"
   ]
  },
  {
   "cell_type": "markdown",
   "metadata": {},
   "source": [
    "## Nerd digression"
   ]
  },
  {
   "cell_type": "markdown",
   "metadata": {},
   "source": [
    "Congratulations on making it this far! Here is a cookie for you:"
   ]
  },
  {
   "cell_type": "code",
   "execution_count": null,
   "metadata": {},
   "outputs": [],
   "source": [
    "import net.imglib2.interpolation.randomaccess.NLinearInterpolatorFactory\n",
    "wideEye = ij.op().run(\"scaleView\", eye, [2, 1, 1], new NLinearInterpolatorFactory())\n",
    "ij.op().run(\"ascii\", wideEye)"
   ]
  },
  {
   "cell_type": "markdown",
   "metadata": {},
   "source": [
    "So classic!\n",
    "\n",
    "You _did_ run section 9.2 \"Cropping an image\" first, right?"
   ]
  }
 ],
 "metadata": {
  "kernelspec": {
   "display_name": "Groovy",
   "language": "groovy",
   "name": "groovy"
  }
 },
 "nbformat": 4,
 "nbformat_minor": 2
}
